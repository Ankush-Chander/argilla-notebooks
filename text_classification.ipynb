{
 "cells": [
  {
   "cell_type": "code",
   "execution_count": 1,
   "id": "872c8bef-1629-4de3-8819-f3f5cebab650",
   "metadata": {
    "ExecuteTime": {
     "end_time": "2023-12-07T12:03:52.962010505Z",
     "start_time": "2023-12-07T12:03:52.918449526Z"
    }
   },
   "outputs": [],
   "source": [
    "import argilla as rg\n",
    "from argilla._constants import DEFAULT_API_KEY\n",
    "from datasets import load_dataset_builder"
   ]
  },
  {
   "cell_type": "code",
   "execution_count": 2,
   "id": "38eb8fcf-1555-42c9-8f01-f46dbec5bdd7",
   "metadata": {
    "ExecuteTime": {
     "end_time": "2023-12-07T12:03:45.634373472Z",
     "start_time": "2023-12-07T12:03:45.577555707Z"
    }
   },
   "outputs": [
    {
     "data": {
      "text/plain": [
       "ServerInfo(url='http://localhost:6900', version='1.21.0-dev', elasticsearch_version='8.5.3')"
      ]
     },
     "execution_count": 2,
     "metadata": {},
     "output_type": "execute_result"
    }
   ],
   "source": [
    "rg.server_info()"
   ]
  },
  {
   "cell_type": "code",
   "execution_count": 8,
   "id": "2ec32191b8355b21",
   "metadata": {
    "collapsed": false,
    "jupyter": {
     "outputs_hidden": false
    }
   },
   "outputs": [
    {
     "name": "stderr",
     "output_type": "stream",
     "text": [
      "Using the latest cached version of the module from /home/ankush/.cache/huggingface/modules/datasets_modules/datasets/imdb/d613c88cf8fa3bab83b4ded3713f1f74830d1100e171db75bbddb80b3345c9c0 (last modified on Thu Dec  7 11:47:14 2023) since it couldn't be found locally at imdb., or remotely on the Hugging Face Hub.\n"
     ]
    },
    {
     "data": {
      "text/html": [
       "<pre style=\"white-space:pre;overflow-x:auto;line-height:normal;font-family:Menlo,'DejaVu Sans Mono',consolas,'Courier New',monospace\"><span style=\"color: #7fbfbf; text-decoration-color: #7fbfbf\">[12/16/23 17:05:54] </span><span style=\"color: #800000; text-decoration-color: #800000\">WARNING </span> WARNING:datasets.load:Using the latest cached version of the module from  <a href=\"file:///home/ankush/anaconda3/envs/argilla_dev_env/lib/python3.9/site-packages/datasets/load.py\" target=\"_blank\"><span style=\"color: #7f7f7f; text-decoration-color: #7f7f7f\">load.py</span></a><span style=\"color: #7f7f7f; text-decoration-color: #7f7f7f\">:</span><a href=\"file:///home/ankush/anaconda3/envs/argilla_dev_env/lib/python3.9/site-packages/datasets/load.py#1271\" target=\"_blank\"><span style=\"color: #7f7f7f; text-decoration-color: #7f7f7f\">1271</span></a>\n",
       "<span style=\"color: #7fbfbf; text-decoration-color: #7fbfbf\">                    </span>         <span style=\"color: #800080; text-decoration-color: #800080\">/home/ankush/.cache/huggingface/modules/datasets_modules/datasets/imdb/</span><span style=\"color: #ff00ff; text-decoration-color: #ff00ff\">d6</span> <span style=\"color: #7f7f7f; text-decoration-color: #7f7f7f\">            </span>\n",
       "<span style=\"color: #7fbfbf; text-decoration-color: #7fbfbf\">                    </span>         <span style=\"color: #ff00ff; text-decoration-color: #ff00ff\">13c88cf8fa3bab83b4ded3713f1f74830d1100e171db75bbddb80b3345c9c0</span> <span style=\"font-weight: bold\">(</span>last      <span style=\"color: #7f7f7f; text-decoration-color: #7f7f7f\">            </span>\n",
       "<span style=\"color: #7fbfbf; text-decoration-color: #7fbfbf\">                    </span>         modified on Thu Dec  <span style=\"color: #008080; text-decoration-color: #008080; font-weight: bold\">7</span> <span style=\"color: #00ff00; text-decoration-color: #00ff00; font-weight: bold\">11:47:14</span> <span style=\"color: #008080; text-decoration-color: #008080; font-weight: bold\">2023</span><span style=\"font-weight: bold\">)</span> since it couldn't be found locally  <span style=\"color: #7f7f7f; text-decoration-color: #7f7f7f\">            </span>\n",
       "<span style=\"color: #7fbfbf; text-decoration-color: #7fbfbf\">                    </span>         at imdb., or remotely on the Hugging Face Hub.                            <span style=\"color: #7f7f7f; text-decoration-color: #7f7f7f\">            </span>\n",
       "</pre>\n"
      ],
      "text/plain": [
       "\u001b[2;36m[12/16/23 17:05:54]\u001b[0m\u001b[2;36m \u001b[0m\u001b[31mWARNING \u001b[0m WARNING:datasets.load:Using the latest cached version of the module from  \u001b]8;id=169677;file:///home/ankush/anaconda3/envs/argilla_dev_env/lib/python3.9/site-packages/datasets/load.py\u001b\\\u001b[2mload.py\u001b[0m\u001b]8;;\u001b\\\u001b[2m:\u001b[0m\u001b]8;id=44717;file:///home/ankush/anaconda3/envs/argilla_dev_env/lib/python3.9/site-packages/datasets/load.py#1271\u001b\\\u001b[2m1271\u001b[0m\u001b]8;;\u001b\\\n",
       "\u001b[2;36m                    \u001b[0m         \u001b[35m/home/ankush/.cache/huggingface/modules/datasets_modules/datasets/imdb/\u001b[0m\u001b[95md6\u001b[0m \u001b[2m            \u001b[0m\n",
       "\u001b[2;36m                    \u001b[0m         \u001b[95m13c88cf8fa3bab83b4ded3713f1f74830d1100e171db75bbddb80b3345c9c0\u001b[0m \u001b[1m(\u001b[0mlast      \u001b[2m            \u001b[0m\n",
       "\u001b[2;36m                    \u001b[0m         modified on Thu Dec  \u001b[1;36m7\u001b[0m \u001b[1;92m11:47:14\u001b[0m \u001b[1;36m2023\u001b[0m\u001b[1m)\u001b[0m since it couldn't be found locally  \u001b[2m            \u001b[0m\n",
       "\u001b[2;36m                    \u001b[0m         at imdb., or remotely on the Hugging Face Hub.                            \u001b[2m            \u001b[0m\n"
      ]
     },
     "metadata": {},
     "output_type": "display_data"
    }
   ],
   "source": [
    "# download dataset from huggingface\n",
    "imdb = load_dataset(\"imdb\")"
   ]
  },
  {
   "cell_type": "code",
   "execution_count": 9,
   "id": "587fa6bff12a5c9e",
   "metadata": {
    "ExecuteTime": {
     "end_time": "2023-12-07T12:03:33.726944737Z",
     "start_time": "2023-12-07T12:03:33.680914256Z"
    },
    "collapsed": false,
    "jupyter": {
     "outputs_hidden": false
    }
   },
   "outputs": [
    {
     "data": {
      "application/vnd.jupyter.widget-view+json": {
       "model_id": "b9c6fdb468f04b5ca7dfd02edd2a5d81",
       "version_major": 2,
       "version_minor": 0
      },
      "text/plain": [
       "Output()"
      ]
     },
     "metadata": {},
     "output_type": "display_data"
    },
    {
     "data": {
      "text/html": [
       "<pre style=\"white-space:pre;overflow-x:auto;line-height:normal;font-family:Menlo,'DejaVu Sans Mono',consolas,'Courier New',monospace\"></pre>\n"
      ],
      "text/plain": []
     },
     "metadata": {},
     "output_type": "display_data"
    },
    {
     "data": {
      "text/html": [
       "<pre style=\"white-space:pre;overflow-x:auto;line-height:normal;font-family:Menlo,'DejaVu Sans Mono',consolas,'Courier New',monospace\">\n",
       "</pre>\n"
      ],
      "text/plain": [
       "\n"
      ]
     },
     "metadata": {},
     "output_type": "display_data"
    },
    {
     "data": {
      "text/html": [
       "<pre style=\"white-space:pre;overflow-x:auto;line-height:normal;font-family:Menlo,'DejaVu Sans Mono',consolas,'Courier New',monospace\"><span style=\"color: #7fbfbf; text-decoration-color: #7fbfbf\">[12/16/23 17:07:49] </span><span style=\"color: #000080; text-decoration-color: #000080\">INFO    </span> INFO:argilla.client.feedback.dataset.local.mixins:✓ Dataset succesfully  <a href=\"file:///home/ankush/workplace/os_repos/argilla/src/argilla/client/feedback/dataset/local/mixins.py\" target=\"_blank\"><span style=\"color: #7f7f7f; text-decoration-color: #7f7f7f\">mixins.py</span></a><span style=\"color: #7f7f7f; text-decoration-color: #7f7f7f\">:</span><a href=\"file:///home/ankush/workplace/os_repos/argilla/src/argilla/client/feedback/dataset/local/mixins.py#281\" target=\"_blank\"><span style=\"color: #7f7f7f; text-decoration-color: #7f7f7f\">281</span></a>\n",
       "<span style=\"color: #7fbfbf; text-decoration-color: #7fbfbf\">                    </span>         pushed to Argilla                                                        <span style=\"color: #7f7f7f; text-decoration-color: #7f7f7f\">             </span>\n",
       "</pre>\n"
      ],
      "text/plain": [
       "\u001b[2;36m[12/16/23 17:07:49]\u001b[0m\u001b[2;36m \u001b[0m\u001b[34mINFO    \u001b[0m INFO:argilla.client.feedback.dataset.local.mixins:✓ Dataset succesfully  \u001b]8;id=680592;file:///home/ankush/workplace/os_repos/argilla/src/argilla/client/feedback/dataset/local/mixins.py\u001b\\\u001b[2mmixins.py\u001b[0m\u001b]8;;\u001b\\\u001b[2m:\u001b[0m\u001b]8;id=379294;file:///home/ankush/workplace/os_repos/argilla/src/argilla/client/feedback/dataset/local/mixins.py#281\u001b\\\u001b[2m281\u001b[0m\u001b]8;;\u001b\\\n",
       "\u001b[2;36m                    \u001b[0m         pushed to Argilla                                                        \u001b[2m             \u001b[0m\n"
      ]
     },
     "metadata": {},
     "output_type": "display_data"
    },
    {
     "data": {
      "text/html": [
       "<pre style=\"white-space:pre;overflow-x:auto;line-height:normal;font-family:Menlo,'DejaVu Sans Mono',consolas,'Courier New',monospace\"><span style=\"color: #7fbfbf; text-decoration-color: #7fbfbf\">                    </span><span style=\"color: #000080; text-decoration-color: #000080\">INFO    </span> INFO:argilla.client.feedback.dataset.local.mixins:<span style=\"color: #800080; text-decoration-color: #800080; font-weight: bold\">RemoteFeedbackDataset</span><span style=\"font-weight: bold\">(</span> <a href=\"file:///home/ankush/workplace/os_repos/argilla/src/argilla/client/feedback/dataset/local/mixins.py\" target=\"_blank\"><span style=\"color: #7f7f7f; text-decoration-color: #7f7f7f\">mixins.py</span></a><span style=\"color: #7f7f7f; text-decoration-color: #7f7f7f\">:</span><a href=\"file:///home/ankush/workplace/os_repos/argilla/src/argilla/client/feedback/dataset/local/mixins.py#282\" target=\"_blank\"><span style=\"color: #7f7f7f; text-decoration-color: #7f7f7f\">282</span></a>\n",
       "<span style=\"color: #7fbfbf; text-decoration-color: #7fbfbf\">                    </span>            <span style=\"color: #808000; text-decoration-color: #808000\">id</span>=<span style=\"color: #ffff00; text-decoration-color: #ffff00\">b1c36afb</span><span style=\"color: #ffff00; text-decoration-color: #ffff00\">-5903-4846-b3c8-517bb05a7b4e</span>                               <span style=\"color: #7f7f7f; text-decoration-color: #7f7f7f\">             </span>\n",
       "<span style=\"color: #7fbfbf; text-decoration-color: #7fbfbf\">                    </span>            <span style=\"color: #808000; text-decoration-color: #808000\">name</span>=<span style=\"color: #800080; text-decoration-color: #800080\">imdb_movie_reviews</span>                                               <span style=\"color: #7f7f7f; text-decoration-color: #7f7f7f\">             </span>\n",
       "<span style=\"color: #7fbfbf; text-decoration-color: #7fbfbf\">                    </span>            <span style=\"color: #808000; text-decoration-color: #808000\">workspace</span>=<span style=\"color: #800080; text-decoration-color: #800080; font-weight: bold\">Workspace</span><span style=\"font-weight: bold\">(</span><span style=\"color: #808000; text-decoration-color: #808000\">id</span>=<span style=\"color: #ffff00; text-decoration-color: #ffff00\">2f16a2ae</span><span style=\"color: #ffff00; text-decoration-color: #ffff00\">-f42b-4470-ba95-9079f8f8a384</span>,          <span style=\"color: #7f7f7f; text-decoration-color: #7f7f7f\">             </span>\n",
       "<span style=\"color: #7fbfbf; text-decoration-color: #7fbfbf\">                    </span>         <span style=\"color: #808000; text-decoration-color: #808000\">name</span>=<span style=\"color: #800080; text-decoration-color: #800080\">hello</span>-world-workspace, <span style=\"color: #808000; text-decoration-color: #808000\">inserted_at</span>=<span style=\"color: #008080; text-decoration-color: #008080; font-weight: bold\">2023</span>-<span style=\"color: #008080; text-decoration-color: #008080; font-weight: bold\">12</span>-<span style=\"color: #008080; text-decoration-color: #008080; font-weight: bold\">16</span> <span style=\"color: #00ff00; text-decoration-color: #00ff00; font-weight: bold\">11:11:20</span>.<span style=\"color: #008080; text-decoration-color: #008080; font-weight: bold\">015212</span>,      <span style=\"color: #7f7f7f; text-decoration-color: #7f7f7f\">             </span>\n",
       "<span style=\"color: #7fbfbf; text-decoration-color: #7fbfbf\">                    </span>         <span style=\"color: #808000; text-decoration-color: #808000\">updated_at</span>=<span style=\"color: #008080; text-decoration-color: #008080; font-weight: bold\">2023</span>-<span style=\"color: #008080; text-decoration-color: #008080; font-weight: bold\">12</span>-<span style=\"color: #008080; text-decoration-color: #008080; font-weight: bold\">16</span> <span style=\"color: #00ff00; text-decoration-color: #00ff00; font-weight: bold\">11:11:20</span>.<span style=\"color: #008080; text-decoration-color: #008080; font-weight: bold\">015212</span><span style=\"font-weight: bold\">)</span>                                   <span style=\"color: #7f7f7f; text-decoration-color: #7f7f7f\">             </span>\n",
       "<span style=\"color: #7fbfbf; text-decoration-color: #7fbfbf\">                    </span>            <span style=\"color: #808000; text-decoration-color: #808000\">url</span>=<span style=\"color: #0000ff; text-decoration-color: #0000ff; text-decoration: underline\">http://localhost:6900/dataset/b1c36afb-5903-4846-b3c8-517bb05a7b4</span> <span style=\"color: #7f7f7f; text-decoration-color: #7f7f7f\">             </span>\n",
       "<span style=\"color: #7fbfbf; text-decoration-color: #7fbfbf\">                    </span>         <span style=\"color: #0000ff; text-decoration-color: #0000ff; text-decoration: underline\">e/annotation-mode</span>                                                        <span style=\"color: #7f7f7f; text-decoration-color: #7f7f7f\">             </span>\n",
       "<span style=\"color: #7fbfbf; text-decoration-color: #7fbfbf\">                    </span>            <span style=\"color: #808000; text-decoration-color: #808000\">fields</span>=<span style=\"font-weight: bold\">[</span><span style=\"color: #800080; text-decoration-color: #800080; font-weight: bold\">RemoteTextField</span><span style=\"font-weight: bold\">(</span><span style=\"color: #808000; text-decoration-color: #808000\">id</span>=<span style=\"color: #800080; text-decoration-color: #800080; font-weight: bold\">UUID</span><span style=\"font-weight: bold\">(</span><span style=\"color: #008000; text-decoration-color: #008000\">'609faf0b-3c15-4a41-9a66-0145c016e5b0</span> <span style=\"color: #7f7f7f; text-decoration-color: #7f7f7f\">             </span>\n",
       "<span style=\"color: #7fbfbf; text-decoration-color: #7fbfbf\">                    </span>         <span style=\"color: #008000; text-decoration-color: #008000\">'</span><span style=\"font-weight: bold\">)</span>, <span style=\"color: #808000; text-decoration-color: #808000\">client</span>=<span style=\"color: #800080; text-decoration-color: #800080; font-style: italic\">None</span>, <span style=\"color: #808000; text-decoration-color: #808000\">name</span>=<span style=\"color: #008000; text-decoration-color: #008000\">'text'</span>, <span style=\"color: #808000; text-decoration-color: #808000\">title</span>=<span style=\"color: #008000; text-decoration-color: #008000\">'text'</span>, <span style=\"color: #808000; text-decoration-color: #808000\">required</span>=<span style=\"color: #00ff00; text-decoration-color: #00ff00; font-style: italic\">True</span>, <span style=\"color: #808000; text-decoration-color: #808000\">type</span>=<span style=\"color: #008000; text-decoration-color: #008000\">'text'</span>,  <span style=\"color: #7f7f7f; text-decoration-color: #7f7f7f\">             </span>\n",
       "<span style=\"color: #7fbfbf; text-decoration-color: #7fbfbf\">                    </span>         <span style=\"color: #808000; text-decoration-color: #808000\">use_markdown</span>=<span style=\"color: #ff0000; text-decoration-color: #ff0000; font-style: italic\">False</span><span style=\"font-weight: bold\">)</span>,                                                     <span style=\"color: #7f7f7f; text-decoration-color: #7f7f7f\">             </span>\n",
       "<span style=\"color: #7fbfbf; text-decoration-color: #7fbfbf\">                    </span>         <span style=\"color: #800080; text-decoration-color: #800080; font-weight: bold\">RemoteTextField</span><span style=\"font-weight: bold\">(</span><span style=\"color: #808000; text-decoration-color: #808000\">id</span>=<span style=\"color: #800080; text-decoration-color: #800080; font-weight: bold\">UUID</span><span style=\"font-weight: bold\">(</span><span style=\"color: #008000; text-decoration-color: #008000\">'5050f2ea-5eee-4308-850b-fe88a8a8867b'</span><span style=\"font-weight: bold\">)</span>,         <span style=\"color: #7f7f7f; text-decoration-color: #7f7f7f\">             </span>\n",
       "<span style=\"color: #7fbfbf; text-decoration-color: #7fbfbf\">                    </span>         <span style=\"color: #808000; text-decoration-color: #808000\">client</span>=<span style=\"color: #800080; text-decoration-color: #800080; font-style: italic\">None</span>, <span style=\"color: #808000; text-decoration-color: #808000\">name</span>=<span style=\"color: #008000; text-decoration-color: #008000\">'label'</span>, <span style=\"color: #808000; text-decoration-color: #808000\">title</span>=<span style=\"color: #008000; text-decoration-color: #008000\">'label'</span>, <span style=\"color: #808000; text-decoration-color: #808000\">required</span>=<span style=\"color: #00ff00; text-decoration-color: #00ff00; font-style: italic\">True</span>, <span style=\"color: #808000; text-decoration-color: #808000\">type</span>=<span style=\"color: #008000; text-decoration-color: #008000\">'text'</span>,    <span style=\"color: #7f7f7f; text-decoration-color: #7f7f7f\">             </span>\n",
       "<span style=\"color: #7fbfbf; text-decoration-color: #7fbfbf\">                    </span>         <span style=\"color: #808000; text-decoration-color: #808000\">use_markdown</span>=<span style=\"color: #ff0000; text-decoration-color: #ff0000; font-style: italic\">False</span><span style=\"font-weight: bold\">)]</span>                                                     <span style=\"color: #7f7f7f; text-decoration-color: #7f7f7f\">             </span>\n",
       "<span style=\"color: #7fbfbf; text-decoration-color: #7fbfbf\">                    </span>            <span style=\"color: #808000; text-decoration-color: #808000\">questions</span>=<span style=\"font-weight: bold\">[</span><span style=\"color: #800080; text-decoration-color: #800080; font-weight: bold\">RemoteLabelQuestion</span><span style=\"font-weight: bold\">(</span><span style=\"color: #808000; text-decoration-color: #808000\">id</span>=<span style=\"color: #800080; text-decoration-color: #800080; font-weight: bold\">UUID</span><span style=\"font-weight: bold\">(</span><span style=\"color: #008000; text-decoration-color: #008000\">'d060ec81-1925-401e-b756-bd85b</span> <span style=\"color: #7f7f7f; text-decoration-color: #7f7f7f\">             </span>\n",
       "<span style=\"color: #7fbfbf; text-decoration-color: #7fbfbf\">                    </span>         <span style=\"color: #008000; text-decoration-color: #008000\">f8fe373'</span><span style=\"font-weight: bold\">)</span>, <span style=\"color: #808000; text-decoration-color: #808000\">client</span>=<span style=\"color: #800080; text-decoration-color: #800080; font-style: italic\">None</span>, <span style=\"color: #808000; text-decoration-color: #808000\">name</span>=<span style=\"color: #008000; text-decoration-color: #008000\">'label'</span>, <span style=\"color: #808000; text-decoration-color: #808000\">title</span>=<span style=\"color: #008000; text-decoration-color: #008000\">'Label'</span>, <span style=\"color: #808000; text-decoration-color: #808000\">description</span>=<span style=\"color: #800080; text-decoration-color: #800080; font-style: italic\">None</span>,   <span style=\"color: #7f7f7f; text-decoration-color: #7f7f7f\">             </span>\n",
       "<span style=\"color: #7fbfbf; text-decoration-color: #7fbfbf\">                    </span>         <span style=\"color: #808000; text-decoration-color: #808000\">required</span>=<span style=\"color: #00ff00; text-decoration-color: #00ff00; font-style: italic\">True</span>, <span style=\"color: #808000; text-decoration-color: #808000\">type</span>=<span style=\"color: #008000; text-decoration-color: #008000\">'label_selection'</span>, <span style=\"color: #808000; text-decoration-color: #808000\">labels</span>=<span style=\"font-weight: bold\">[</span><span style=\"color: #008000; text-decoration-color: #008000\">'positive'</span>, <span style=\"color: #008000; text-decoration-color: #008000\">'negative'</span><span style=\"font-weight: bold\">]</span>,  <span style=\"color: #7f7f7f; text-decoration-color: #7f7f7f\">             </span>\n",
       "<span style=\"color: #7fbfbf; text-decoration-color: #7fbfbf\">                    </span>         <span style=\"color: #808000; text-decoration-color: #808000\">visible_labels</span>=<span style=\"color: #800080; text-decoration-color: #800080; font-style: italic\">None</span><span style=\"font-weight: bold\">)]</span>                                                    <span style=\"color: #7f7f7f; text-decoration-color: #7f7f7f\">             </span>\n",
       "<span style=\"color: #7fbfbf; text-decoration-color: #7fbfbf\">                    </span>            <span style=\"color: #808000; text-decoration-color: #808000\">guidelines</span>=<span style=\"color: #800080; text-decoration-color: #800080; font-style: italic\">None</span>                                                       <span style=\"color: #7f7f7f; text-decoration-color: #7f7f7f\">             </span>\n",
       "<span style=\"color: #7fbfbf; text-decoration-color: #7fbfbf\">                    </span>            <span style=\"color: #808000; text-decoration-color: #808000\">metadata_properties</span>=<span style=\"font-weight: bold\">[]</span>                                                <span style=\"color: #7f7f7f; text-decoration-color: #7f7f7f\">             </span>\n",
       "<span style=\"color: #7fbfbf; text-decoration-color: #7fbfbf\">                    </span>         <span style=\"font-weight: bold\">)</span>                                                                        <span style=\"color: #7f7f7f; text-decoration-color: #7f7f7f\">             </span>\n",
       "</pre>\n"
      ],
      "text/plain": [
       "\u001b[2;36m                   \u001b[0m\u001b[2;36m \u001b[0m\u001b[34mINFO    \u001b[0m INFO:argilla.client.feedback.dataset.local.mixins:\u001b[1;35mRemoteFeedbackDataset\u001b[0m\u001b[1m(\u001b[0m \u001b]8;id=562365;file:///home/ankush/workplace/os_repos/argilla/src/argilla/client/feedback/dataset/local/mixins.py\u001b\\\u001b[2mmixins.py\u001b[0m\u001b]8;;\u001b\\\u001b[2m:\u001b[0m\u001b]8;id=335492;file:///home/ankush/workplace/os_repos/argilla/src/argilla/client/feedback/dataset/local/mixins.py#282\u001b\\\u001b[2m282\u001b[0m\u001b]8;;\u001b\\\n",
       "\u001b[2;36m                    \u001b[0m            \u001b[33mid\u001b[0m=\u001b[93mb1c36afb\u001b[0m\u001b[93m-5903-4846-b3c8-517bb05a7b4e\u001b[0m                               \u001b[2m             \u001b[0m\n",
       "\u001b[2;36m                    \u001b[0m            \u001b[33mname\u001b[0m=\u001b[35mimdb_movie_reviews\u001b[0m                                               \u001b[2m             \u001b[0m\n",
       "\u001b[2;36m                    \u001b[0m            \u001b[33mworkspace\u001b[0m=\u001b[1;35mWorkspace\u001b[0m\u001b[1m(\u001b[0m\u001b[33mid\u001b[0m=\u001b[93m2f16a2ae\u001b[0m\u001b[93m-f42b-4470-ba95-9079f8f8a384\u001b[0m,          \u001b[2m             \u001b[0m\n",
       "\u001b[2;36m                    \u001b[0m         \u001b[33mname\u001b[0m=\u001b[35mhello\u001b[0m-world-workspace, \u001b[33minserted_at\u001b[0m=\u001b[1;36m2023\u001b[0m-\u001b[1;36m12\u001b[0m-\u001b[1;36m16\u001b[0m \u001b[1;92m11:11:20\u001b[0m.\u001b[1;36m015212\u001b[0m,      \u001b[2m             \u001b[0m\n",
       "\u001b[2;36m                    \u001b[0m         \u001b[33mupdated_at\u001b[0m=\u001b[1;36m2023\u001b[0m-\u001b[1;36m12\u001b[0m-\u001b[1;36m16\u001b[0m \u001b[1;92m11:11:20\u001b[0m.\u001b[1;36m015212\u001b[0m\u001b[1m)\u001b[0m                                   \u001b[2m             \u001b[0m\n",
       "\u001b[2;36m                    \u001b[0m            \u001b[33murl\u001b[0m=\u001b[4;94mhttp\u001b[0m\u001b[4;94m://localhost:6900/dataset/b1c36afb-5903-4846-b3c8-517bb05a7b4\u001b[0m \u001b[2m             \u001b[0m\n",
       "\u001b[2;36m                    \u001b[0m         \u001b[4;94me/annotation-mode\u001b[0m                                                        \u001b[2m             \u001b[0m\n",
       "\u001b[2;36m                    \u001b[0m            \u001b[33mfields\u001b[0m=\u001b[1m[\u001b[0m\u001b[1;35mRemoteTextField\u001b[0m\u001b[1m(\u001b[0m\u001b[33mid\u001b[0m=\u001b[1;35mUUID\u001b[0m\u001b[1m(\u001b[0m\u001b[32m'609faf0b-3c15-4a41-9a66-0145c016e5b0\u001b[0m \u001b[2m             \u001b[0m\n",
       "\u001b[2;36m                    \u001b[0m         \u001b[32m'\u001b[0m\u001b[1m)\u001b[0m, \u001b[33mclient\u001b[0m=\u001b[3;35mNone\u001b[0m, \u001b[33mname\u001b[0m=\u001b[32m'text'\u001b[0m, \u001b[33mtitle\u001b[0m=\u001b[32m'text'\u001b[0m, \u001b[33mrequired\u001b[0m=\u001b[3;92mTrue\u001b[0m, \u001b[33mtype\u001b[0m=\u001b[32m'text'\u001b[0m,  \u001b[2m             \u001b[0m\n",
       "\u001b[2;36m                    \u001b[0m         \u001b[33muse_markdown\u001b[0m=\u001b[3;91mFalse\u001b[0m\u001b[1m)\u001b[0m,                                                     \u001b[2m             \u001b[0m\n",
       "\u001b[2;36m                    \u001b[0m         \u001b[1;35mRemoteTextField\u001b[0m\u001b[1m(\u001b[0m\u001b[33mid\u001b[0m=\u001b[1;35mUUID\u001b[0m\u001b[1m(\u001b[0m\u001b[32m'5050f2ea-5eee-4308-850b-fe88a8a8867b'\u001b[0m\u001b[1m)\u001b[0m,         \u001b[2m             \u001b[0m\n",
       "\u001b[2;36m                    \u001b[0m         \u001b[33mclient\u001b[0m=\u001b[3;35mNone\u001b[0m, \u001b[33mname\u001b[0m=\u001b[32m'label'\u001b[0m, \u001b[33mtitle\u001b[0m=\u001b[32m'label'\u001b[0m, \u001b[33mrequired\u001b[0m=\u001b[3;92mTrue\u001b[0m, \u001b[33mtype\u001b[0m=\u001b[32m'text'\u001b[0m,    \u001b[2m             \u001b[0m\n",
       "\u001b[2;36m                    \u001b[0m         \u001b[33muse_markdown\u001b[0m=\u001b[3;91mFalse\u001b[0m\u001b[1m)\u001b[0m\u001b[1m]\u001b[0m                                                     \u001b[2m             \u001b[0m\n",
       "\u001b[2;36m                    \u001b[0m            \u001b[33mquestions\u001b[0m=\u001b[1m[\u001b[0m\u001b[1;35mRemoteLabelQuestion\u001b[0m\u001b[1m(\u001b[0m\u001b[33mid\u001b[0m=\u001b[1;35mUUID\u001b[0m\u001b[1m(\u001b[0m\u001b[32m'd060ec81-1925-401e-b756-bd85b\u001b[0m \u001b[2m             \u001b[0m\n",
       "\u001b[2;36m                    \u001b[0m         \u001b[32mf8fe373'\u001b[0m\u001b[1m)\u001b[0m, \u001b[33mclient\u001b[0m=\u001b[3;35mNone\u001b[0m, \u001b[33mname\u001b[0m=\u001b[32m'label'\u001b[0m, \u001b[33mtitle\u001b[0m=\u001b[32m'Label'\u001b[0m, \u001b[33mdescription\u001b[0m=\u001b[3;35mNone\u001b[0m,   \u001b[2m             \u001b[0m\n",
       "\u001b[2;36m                    \u001b[0m         \u001b[33mrequired\u001b[0m=\u001b[3;92mTrue\u001b[0m, \u001b[33mtype\u001b[0m=\u001b[32m'label_selection'\u001b[0m, \u001b[33mlabels\u001b[0m=\u001b[1m[\u001b[0m\u001b[32m'positive'\u001b[0m, \u001b[32m'negative'\u001b[0m\u001b[1m]\u001b[0m,  \u001b[2m             \u001b[0m\n",
       "\u001b[2;36m                    \u001b[0m         \u001b[33mvisible_labels\u001b[0m=\u001b[3;35mNone\u001b[0m\u001b[1m)\u001b[0m\u001b[1m]\u001b[0m                                                    \u001b[2m             \u001b[0m\n",
       "\u001b[2;36m                    \u001b[0m            \u001b[33mguidelines\u001b[0m=\u001b[3;35mNone\u001b[0m                                                       \u001b[2m             \u001b[0m\n",
       "\u001b[2;36m                    \u001b[0m            \u001b[33mmetadata_properties\u001b[0m=\u001b[1m[\u001b[0m\u001b[1m]\u001b[0m                                                \u001b[2m             \u001b[0m\n",
       "\u001b[2;36m                    \u001b[0m         \u001b[1m)\u001b[0m                                                                        \u001b[2m             \u001b[0m\n"
      ]
     },
     "metadata": {},
     "output_type": "display_data"
    },
    {
     "data": {
      "text/plain": [
       "RemoteFeedbackDataset(\n",
       "   id=b1c36afb-5903-4846-b3c8-517bb05a7b4e\n",
       "   name=imdb_movie_reviews\n",
       "   workspace=Workspace(id=2f16a2ae-f42b-4470-ba95-9079f8f8a384, name=hello-world-workspace, inserted_at=2023-12-16 11:11:20.015212, updated_at=2023-12-16 11:11:20.015212)\n",
       "   url=http://localhost:6900/dataset/b1c36afb-5903-4846-b3c8-517bb05a7b4e/annotation-mode\n",
       "   fields=[RemoteTextField(id=UUID('609faf0b-3c15-4a41-9a66-0145c016e5b0'), client=None, name='text', title='text', required=True, type='text', use_markdown=False), RemoteTextField(id=UUID('5050f2ea-5eee-4308-850b-fe88a8a8867b'), client=None, name='label', title='label', required=True, type='text', use_markdown=False)]\n",
       "   questions=[RemoteLabelQuestion(id=UUID('d060ec81-1925-401e-b756-bd85bf8fe373'), client=None, name='label', title='Label', description=None, required=True, type='label_selection', labels=['positive', 'negative'], visible_labels=None)]\n",
       "   guidelines=None\n",
       "   metadata_properties=[]\n",
       ")"
      ]
     },
     "execution_count": 9,
     "metadata": {},
     "output_type": "execute_result"
    }
   ],
   "source": [
    "from argilla import FeedbackDataset, TextField, ResponseSchema, ValueSchema,  SuggestionSchema\n",
    "\n",
    "\n",
    "# ds = rg.load(\"imdb_movie_reviews\", workspace=\"test_workspace\")abs\n",
    "# load imdb to Argilla\n",
    "fds = FeedbackDataset(fields=[TextField(name=\"text\", title=\"text\"), TextField(name=\"label\", title=\"label\")], questions=[\n",
    "        rg.LabelQuestion(name=\"label\", labels=[\"positive\", \"negative\"])\n",
    "])\n",
    "records = []\n",
    "for i, record in enumerate(imdb[\"train\"]):\n",
    "    # print(record)\n",
    "    label_value = \"positive\" if record[\"label\"] else \"negative\"\n",
    "    record = rg.FeedbackRecord(\n",
    "        fields={\n",
    "            \"text\": record[\"text\"],\n",
    "            \"label\": label_value\n",
    "        },\n",
    "        responses=[ResponseSchema(values={'label': ValueSchema(value=label_value)})],\n",
    "        external_id=f\"entry-{i}\",\n",
    "    )\n",
    "    # print(record)\n",
    "    records.append(record)\n",
    "\n",
    "fds.add_records(records)\n",
    "\n",
    "fds.push_to_argilla(name=\"imdb_movie_reviews\", workspace=\"hello-world-workspace\")\n",
    "\n",
    "\n"
   ]
  },
  {
   "cell_type": "code",
   "execution_count": 24,
   "id": "50fc53a9-ba2d-4e44-b249-8774c4112dc8",
   "metadata": {},
   "outputs": [
    {
     "data": {
      "text/html": [
       "<pre style=\"white-space:pre;overflow-x:auto;line-height:normal;font-family:Menlo,'DejaVu Sans Mono',consolas,'Courier New',monospace\"><span style=\"color: #7fbfbf; text-decoration-color: #7fbfbf\">[12/16/23 18:19:59] </span><span style=\"color: #800000; text-decoration-color: #800000\">WARNING </span> WARNING:argilla.client.feedback.training.schemas.base:spaCy `lang` is not  <a href=\"file:///home/ankush/workplace/os_repos/argilla/src/argilla/client/feedback/training/schemas/base.py\" target=\"_blank\"><span style=\"color: #7f7f7f; text-decoration-color: #7f7f7f\">base.py</span></a><span style=\"color: #7f7f7f; text-decoration-color: #7f7f7f\">:</span><a href=\"file:///home/ankush/workplace/os_repos/argilla/src/argilla/client/feedback/training/schemas/base.py#245\" target=\"_blank\"><span style=\"color: #7f7f7f; text-decoration-color: #7f7f7f\">245</span></a>\n",
       "<span style=\"color: #7fbfbf; text-decoration-color: #7fbfbf\">                    </span>         provided. Using `en`<span style=\"font-weight: bold\">(</span>English<span style=\"font-weight: bold\">)</span> as default language.                         <span style=\"color: #7f7f7f; text-decoration-color: #7f7f7f\">           </span>\n",
       "</pre>\n"
      ],
      "text/plain": [
       "\u001b[2;36m[12/16/23 18:19:59]\u001b[0m\u001b[2;36m \u001b[0m\u001b[31mWARNING \u001b[0m WARNING:argilla.client.feedback.training.schemas.base:spaCy `lang` is not  \u001b]8;id=961688;file:///home/ankush/workplace/os_repos/argilla/src/argilla/client/feedback/training/schemas/base.py\u001b\\\u001b[2mbase.py\u001b[0m\u001b]8;;\u001b\\\u001b[2m:\u001b[0m\u001b]8;id=614067;file:///home/ankush/workplace/os_repos/argilla/src/argilla/client/feedback/training/schemas/base.py#245\u001b\\\u001b[2m245\u001b[0m\u001b]8;;\u001b\\\n",
       "\u001b[2;36m                    \u001b[0m         provided. Using `en`\u001b[1m(\u001b[0mEnglish\u001b[1m)\u001b[0m as default language.                         \u001b[2m           \u001b[0m\n"
      ]
     },
     "metadata": {},
     "output_type": "display_data"
    },
    {
     "data": {
      "text/html": [
       "<pre style=\"white-space:pre;overflow-x:auto;line-height:normal;font-family:Menlo,'DejaVu Sans Mono',consolas,'Courier New',monospace\"><span style=\"color: #7fbfbf; text-decoration-color: #7fbfbf\">[12/16/23 18:20:21] </span><span style=\"color: #000080; text-decoration-color: #000080\">INFO    </span> INFO:ArgillaTrainer:            ArgillaBaseTrainer info:                   <a href=\"file:///home/ankush/workplace/os_repos/argilla/src/argilla/client/feedback/training/base.py\" target=\"_blank\"><span style=\"color: #7f7f7f; text-decoration-color: #7f7f7f\">base.py</span></a><span style=\"color: #7f7f7f; text-decoration-color: #7f7f7f\">:</span><a href=\"file:///home/ankush/workplace/os_repos/argilla/src/argilla/client/feedback/training/base.py#227\" target=\"_blank\"><span style=\"color: #7f7f7f; text-decoration-color: #7f7f7f\">227</span></a>\n",
       "<span style=\"color: #7fbfbf; text-decoration-color: #7fbfbf\">                    </span>                     ______________________________________________________________ <span style=\"color: #7f7f7f; text-decoration-color: #7f7f7f\">           </span>\n",
       "<span style=\"color: #7fbfbf; text-decoration-color: #7fbfbf\">                    </span>         ___                                                                        <span style=\"color: #7f7f7f; text-decoration-color: #7f7f7f\">           </span>\n",
       "<span style=\"color: #7fbfbf; text-decoration-color: #7fbfbf\">                    </span>                     These baseline params are fixed:                               <span style=\"color: #7f7f7f; text-decoration-color: #7f7f7f\">           </span>\n",
       "<span style=\"color: #7fbfbf; text-decoration-color: #7fbfbf\">                    </span>                         dataset: <span style=\"color: #800080; text-decoration-color: #800080; font-weight: bold\">RemoteFeedbackDataset</span><span style=\"font-weight: bold\">(</span>                            <span style=\"color: #7f7f7f; text-decoration-color: #7f7f7f\">           </span>\n",
       "<span style=\"color: #7fbfbf; text-decoration-color: #7fbfbf\">                    </span>            <span style=\"color: #808000; text-decoration-color: #808000\">id</span>=<span style=\"color: #ffff00; text-decoration-color: #ffff00\">b1c36afb</span><span style=\"color: #ffff00; text-decoration-color: #ffff00\">-5903-4846-b3c8-517bb05a7b4e</span>                                 <span style=\"color: #7f7f7f; text-decoration-color: #7f7f7f\">           </span>\n",
       "<span style=\"color: #7fbfbf; text-decoration-color: #7fbfbf\">                    </span>            <span style=\"color: #808000; text-decoration-color: #808000\">name</span>=<span style=\"color: #800080; text-decoration-color: #800080\">imdb_movie_reviews</span>                                                 <span style=\"color: #7f7f7f; text-decoration-color: #7f7f7f\">           </span>\n",
       "<span style=\"color: #7fbfbf; text-decoration-color: #7fbfbf\">                    </span>            <span style=\"color: #808000; text-decoration-color: #808000\">workspace</span>=<span style=\"color: #800080; text-decoration-color: #800080; font-weight: bold\">Workspace</span><span style=\"font-weight: bold\">(</span><span style=\"color: #808000; text-decoration-color: #808000\">id</span>=<span style=\"color: #ffff00; text-decoration-color: #ffff00\">2f16a2ae</span><span style=\"color: #ffff00; text-decoration-color: #ffff00\">-f42b-4470-ba95-9079f8f8a384</span>,            <span style=\"color: #7f7f7f; text-decoration-color: #7f7f7f\">           </span>\n",
       "<span style=\"color: #7fbfbf; text-decoration-color: #7fbfbf\">                    </span>         <span style=\"color: #808000; text-decoration-color: #808000\">name</span>=<span style=\"color: #800080; text-decoration-color: #800080\">hello</span>-world-workspace, <span style=\"color: #808000; text-decoration-color: #808000\">inserted_at</span>=<span style=\"color: #008080; text-decoration-color: #008080; font-weight: bold\">2023</span>-<span style=\"color: #008080; text-decoration-color: #008080; font-weight: bold\">12</span>-<span style=\"color: #008080; text-decoration-color: #008080; font-weight: bold\">16</span> <span style=\"color: #00ff00; text-decoration-color: #00ff00; font-weight: bold\">11:11:20</span>.<span style=\"color: #008080; text-decoration-color: #008080; font-weight: bold\">015212</span>,        <span style=\"color: #7f7f7f; text-decoration-color: #7f7f7f\">           </span>\n",
       "<span style=\"color: #7fbfbf; text-decoration-color: #7fbfbf\">                    </span>         <span style=\"color: #808000; text-decoration-color: #808000\">updated_at</span>=<span style=\"color: #008080; text-decoration-color: #008080; font-weight: bold\">2023</span>-<span style=\"color: #008080; text-decoration-color: #008080; font-weight: bold\">12</span>-<span style=\"color: #008080; text-decoration-color: #008080; font-weight: bold\">16</span> <span style=\"color: #00ff00; text-decoration-color: #00ff00; font-weight: bold\">11:11:20</span>.<span style=\"color: #008080; text-decoration-color: #008080; font-weight: bold\">015212</span><span style=\"font-weight: bold\">)</span>                                     <span style=\"color: #7f7f7f; text-decoration-color: #7f7f7f\">           </span>\n",
       "<span style=\"color: #7fbfbf; text-decoration-color: #7fbfbf\">                    </span>            <span style=\"color: #808000; text-decoration-color: #808000\">url</span>=<span style=\"color: #0000ff; text-decoration-color: #0000ff; text-decoration: underline\">http://localhost:6900/dataset/b1c36afb-5903-4846-b3c8-517bb05a7b4e/</span> <span style=\"color: #7f7f7f; text-decoration-color: #7f7f7f\">           </span>\n",
       "<span style=\"color: #7fbfbf; text-decoration-color: #7fbfbf\">                    </span>         <span style=\"color: #0000ff; text-decoration-color: #0000ff; text-decoration: underline\">annotation-mode</span>                                                            <span style=\"color: #7f7f7f; text-decoration-color: #7f7f7f\">           </span>\n",
       "<span style=\"color: #7fbfbf; text-decoration-color: #7fbfbf\">                    </span>            <span style=\"color: #808000; text-decoration-color: #808000\">fields</span>=<span style=\"font-weight: bold\">[</span><span style=\"color: #800080; text-decoration-color: #800080; font-weight: bold\">RemoteTextField</span><span style=\"font-weight: bold\">(</span><span style=\"color: #808000; text-decoration-color: #808000\">id</span>=<span style=\"color: #800080; text-decoration-color: #800080; font-weight: bold\">UUID</span><span style=\"font-weight: bold\">(</span><span style=\"color: #008000; text-decoration-color: #008000\">'609faf0b-3c15-4a41-9a66-0145c016e5b0'</span><span style=\"font-weight: bold\">)</span> <span style=\"color: #7f7f7f; text-decoration-color: #7f7f7f\">           </span>\n",
       "<span style=\"color: #7fbfbf; text-decoration-color: #7fbfbf\">                    </span>         , <span style=\"color: #808000; text-decoration-color: #808000\">client</span>=<span style=\"color: #800080; text-decoration-color: #800080; font-style: italic\">None</span>, <span style=\"color: #808000; text-decoration-color: #808000\">name</span>=<span style=\"color: #008000; text-decoration-color: #008000\">'text'</span>, <span style=\"color: #808000; text-decoration-color: #808000\">title</span>=<span style=\"color: #008000; text-decoration-color: #008000\">'text'</span>, <span style=\"color: #808000; text-decoration-color: #808000\">required</span>=<span style=\"color: #00ff00; text-decoration-color: #00ff00; font-style: italic\">True</span>, <span style=\"color: #808000; text-decoration-color: #808000\">type</span>=<span style=\"color: #008000; text-decoration-color: #008000\">'text'</span>,      <span style=\"color: #7f7f7f; text-decoration-color: #7f7f7f\">           </span>\n",
       "<span style=\"color: #7fbfbf; text-decoration-color: #7fbfbf\">                    </span>         <span style=\"color: #808000; text-decoration-color: #808000\">use_markdown</span>=<span style=\"color: #ff0000; text-decoration-color: #ff0000; font-style: italic\">False</span><span style=\"font-weight: bold\">)</span>,                                                       <span style=\"color: #7f7f7f; text-decoration-color: #7f7f7f\">           </span>\n",
       "<span style=\"color: #7fbfbf; text-decoration-color: #7fbfbf\">                    </span>         <span style=\"color: #800080; text-decoration-color: #800080; font-weight: bold\">RemoteTextField</span><span style=\"font-weight: bold\">(</span><span style=\"color: #808000; text-decoration-color: #808000\">id</span>=<span style=\"color: #800080; text-decoration-color: #800080; font-weight: bold\">UUID</span><span style=\"font-weight: bold\">(</span><span style=\"color: #008000; text-decoration-color: #008000\">'5050f2ea-5eee-4308-850b-fe88a8a8867b'</span><span style=\"font-weight: bold\">)</span>,           <span style=\"color: #7f7f7f; text-decoration-color: #7f7f7f\">           </span>\n",
       "<span style=\"color: #7fbfbf; text-decoration-color: #7fbfbf\">                    </span>         <span style=\"color: #808000; text-decoration-color: #808000\">client</span>=<span style=\"color: #800080; text-decoration-color: #800080; font-style: italic\">None</span>, <span style=\"color: #808000; text-decoration-color: #808000\">name</span>=<span style=\"color: #008000; text-decoration-color: #008000\">'label'</span>, <span style=\"color: #808000; text-decoration-color: #808000\">title</span>=<span style=\"color: #008000; text-decoration-color: #008000\">'label'</span>, <span style=\"color: #808000; text-decoration-color: #808000\">required</span>=<span style=\"color: #00ff00; text-decoration-color: #00ff00; font-style: italic\">True</span>, <span style=\"color: #808000; text-decoration-color: #808000\">type</span>=<span style=\"color: #008000; text-decoration-color: #008000\">'text'</span>,      <span style=\"color: #7f7f7f; text-decoration-color: #7f7f7f\">           </span>\n",
       "<span style=\"color: #7fbfbf; text-decoration-color: #7fbfbf\">                    </span>         <span style=\"color: #808000; text-decoration-color: #808000\">use_markdown</span>=<span style=\"color: #ff0000; text-decoration-color: #ff0000; font-style: italic\">False</span><span style=\"font-weight: bold\">)]</span>                                                       <span style=\"color: #7f7f7f; text-decoration-color: #7f7f7f\">           </span>\n",
       "<span style=\"color: #7fbfbf; text-decoration-color: #7fbfbf\">                    </span>            <span style=\"color: #808000; text-decoration-color: #808000\">questions</span>=<span style=\"font-weight: bold\">[</span><span style=\"color: #800080; text-decoration-color: #800080; font-weight: bold\">RemoteLabelQuestion</span><span style=\"font-weight: bold\">(</span><span style=\"color: #808000; text-decoration-color: #808000\">id</span>=<span style=\"color: #800080; text-decoration-color: #800080; font-weight: bold\">UUID</span><span style=\"font-weight: bold\">(</span><span style=\"color: #008000; text-decoration-color: #008000\">'d060ec81-1925-401e-b756-bd85bf8</span> <span style=\"color: #7f7f7f; text-decoration-color: #7f7f7f\">           </span>\n",
       "<span style=\"color: #7fbfbf; text-decoration-color: #7fbfbf\">                    </span>         <span style=\"color: #008000; text-decoration-color: #008000\">fe373'</span><span style=\"font-weight: bold\">)</span>, <span style=\"color: #808000; text-decoration-color: #808000\">client</span>=<span style=\"color: #800080; text-decoration-color: #800080; font-style: italic\">None</span>, <span style=\"color: #808000; text-decoration-color: #808000\">name</span>=<span style=\"color: #008000; text-decoration-color: #008000\">'label'</span>, <span style=\"color: #808000; text-decoration-color: #808000\">title</span>=<span style=\"color: #008000; text-decoration-color: #008000\">'Label'</span>, <span style=\"color: #808000; text-decoration-color: #808000\">description</span>=<span style=\"color: #800080; text-decoration-color: #800080; font-style: italic\">None</span>,       <span style=\"color: #7f7f7f; text-decoration-color: #7f7f7f\">           </span>\n",
       "<span style=\"color: #7fbfbf; text-decoration-color: #7fbfbf\">                    </span>         <span style=\"color: #808000; text-decoration-color: #808000\">required</span>=<span style=\"color: #00ff00; text-decoration-color: #00ff00; font-style: italic\">True</span>, <span style=\"color: #808000; text-decoration-color: #808000\">type</span>=<span style=\"color: #008000; text-decoration-color: #008000\">'label_selection'</span>, <span style=\"color: #808000; text-decoration-color: #808000\">labels</span>=<span style=\"font-weight: bold\">[</span><span style=\"color: #008000; text-decoration-color: #008000\">'positive'</span>, <span style=\"color: #008000; text-decoration-color: #008000\">'negative'</span><span style=\"font-weight: bold\">]</span>,    <span style=\"color: #7f7f7f; text-decoration-color: #7f7f7f\">           </span>\n",
       "<span style=\"color: #7fbfbf; text-decoration-color: #7fbfbf\">                    </span>         <span style=\"color: #808000; text-decoration-color: #808000\">visible_labels</span>=<span style=\"color: #800080; text-decoration-color: #800080; font-style: italic\">None</span><span style=\"font-weight: bold\">)]</span>                                                      <span style=\"color: #7f7f7f; text-decoration-color: #7f7f7f\">           </span>\n",
       "<span style=\"color: #7fbfbf; text-decoration-color: #7fbfbf\">                    </span>            <span style=\"color: #808000; text-decoration-color: #808000\">guidelines</span>=<span style=\"color: #800080; text-decoration-color: #800080; font-style: italic\">None</span>                                                         <span style=\"color: #7f7f7f; text-decoration-color: #7f7f7f\">           </span>\n",
       "<span style=\"color: #7fbfbf; text-decoration-color: #7fbfbf\">                    </span>            <span style=\"color: #808000; text-decoration-color: #808000\">metadata_properties</span>=<span style=\"font-weight: bold\">[]</span>                                                  <span style=\"color: #7f7f7f; text-decoration-color: #7f7f7f\">           </span>\n",
       "<span style=\"color: #7fbfbf; text-decoration-color: #7fbfbf\">                    </span>         <span style=\"font-weight: bold\">)</span>                                                                          <span style=\"color: #7f7f7f; text-decoration-color: #7f7f7f\">           </span>\n",
       "<span style=\"color: #7fbfbf; text-decoration-color: #7fbfbf\">                    </span>                         task: <span style=\"color: #808000; text-decoration-color: #808000\">formatting_func</span>=<span style=\"color: #800080; text-decoration-color: #800080; font-style: italic\">None</span>                                 <span style=\"color: #7f7f7f; text-decoration-color: #7f7f7f\">           </span>\n",
       "<span style=\"color: #7fbfbf; text-decoration-color: #7fbfbf\">                    </span>         <span style=\"color: #808000; text-decoration-color: #808000\">defaults</span>=<span style=\"color: #800080; text-decoration-color: #800080; font-weight: bold\">TextClassificationDefaults</span><span style=\"font-weight: bold\">(</span><span style=\"color: #808000; text-decoration-color: #808000\">text</span>=<span style=\"color: #800080; text-decoration-color: #800080; font-weight: bold\">RemoteTextField</span><span style=\"font-weight: bold\">(</span><span style=\"color: #808000; text-decoration-color: #808000\">id</span>=<span style=\"color: #800080; text-decoration-color: #800080; font-weight: bold\">UUID</span><span style=\"font-weight: bold\">(</span><span style=\"color: #008000; text-decoration-color: #008000\">'609faf0b</span> <span style=\"color: #7f7f7f; text-decoration-color: #7f7f7f\">           </span>\n",
       "<span style=\"color: #7fbfbf; text-decoration-color: #7fbfbf\">                    </span>         <span style=\"color: #008000; text-decoration-color: #008000\">-3c15-4a41-9a66-0145c016e5b0'</span><span style=\"font-weight: bold\">)</span>, <span style=\"color: #808000; text-decoration-color: #808000\">client</span>=<span style=\"color: #800080; text-decoration-color: #800080; font-style: italic\">None</span>, <span style=\"color: #808000; text-decoration-color: #808000\">name</span>=<span style=\"color: #008000; text-decoration-color: #008000\">'text'</span>, <span style=\"color: #808000; text-decoration-color: #808000\">title</span>=<span style=\"color: #008000; text-decoration-color: #008000\">'text'</span>,    <span style=\"color: #7f7f7f; text-decoration-color: #7f7f7f\">           </span>\n",
       "<span style=\"color: #7fbfbf; text-decoration-color: #7fbfbf\">                    </span>         <span style=\"color: #808000; text-decoration-color: #808000\">required</span>=<span style=\"color: #00ff00; text-decoration-color: #00ff00; font-style: italic\">True</span>, <span style=\"color: #808000; text-decoration-color: #808000\">type</span>=<span style=\"color: #008000; text-decoration-color: #008000\">'text'</span>, <span style=\"color: #808000; text-decoration-color: #808000\">use_markdown</span>=<span style=\"color: #ff0000; text-decoration-color: #ff0000; font-style: italic\">False</span><span style=\"font-weight: bold\">)</span>,                           <span style=\"color: #7f7f7f; text-decoration-color: #7f7f7f\">           </span>\n",
       "<span style=\"color: #7fbfbf; text-decoration-color: #7fbfbf\">                    </span>         <span style=\"color: #808000; text-decoration-color: #808000\">label</span>=<span style=\"color: #800080; text-decoration-color: #800080; font-weight: bold\">LabelQuestionUnification</span><span style=\"font-weight: bold\">(</span><span style=\"color: #808000; text-decoration-color: #808000\">question</span>=<span style=\"color: #800080; text-decoration-color: #800080; font-weight: bold\">RemoteLabelQuestion</span><span style=\"font-weight: bold\">(</span><span style=\"color: #808000; text-decoration-color: #808000\">id</span>=<span style=\"color: #800080; text-decoration-color: #800080; font-weight: bold\">UUID</span><span style=\"font-weight: bold\">(</span><span style=\"color: #008000; text-decoration-color: #008000\">'d060e</span> <span style=\"color: #7f7f7f; text-decoration-color: #7f7f7f\">           </span>\n",
       "<span style=\"color: #7fbfbf; text-decoration-color: #7fbfbf\">                    </span>         <span style=\"color: #008000; text-decoration-color: #008000\">c81-1925-401e-b756-bd85bf8fe373'</span><span style=\"font-weight: bold\">)</span>, <span style=\"color: #808000; text-decoration-color: #808000\">client</span>=<span style=\"color: #800080; text-decoration-color: #800080; font-style: italic\">None</span>, <span style=\"color: #808000; text-decoration-color: #808000\">name</span>=<span style=\"color: #008000; text-decoration-color: #008000\">'label'</span>,              <span style=\"color: #7f7f7f; text-decoration-color: #7f7f7f\">           </span>\n",
       "<span style=\"color: #7fbfbf; text-decoration-color: #7fbfbf\">                    </span>         <span style=\"color: #808000; text-decoration-color: #808000\">title</span>=<span style=\"color: #008000; text-decoration-color: #008000\">'Label'</span>, <span style=\"color: #808000; text-decoration-color: #808000\">description</span>=<span style=\"color: #800080; text-decoration-color: #800080; font-style: italic\">None</span>, <span style=\"color: #808000; text-decoration-color: #808000\">required</span>=<span style=\"color: #00ff00; text-decoration-color: #00ff00; font-style: italic\">True</span>, <span style=\"color: #808000; text-decoration-color: #808000\">type</span>=<span style=\"color: #008000; text-decoration-color: #008000\">'label_selection'</span>,    <span style=\"color: #7f7f7f; text-decoration-color: #7f7f7f\">           </span>\n",
       "<span style=\"color: #7fbfbf; text-decoration-color: #7fbfbf\">                    </span>         <span style=\"color: #808000; text-decoration-color: #808000\">labels</span>=<span style=\"font-weight: bold\">[</span><span style=\"color: #008000; text-decoration-color: #008000\">'positive'</span>, <span style=\"color: #008000; text-decoration-color: #008000\">'negative'</span><span style=\"font-weight: bold\">]</span>, <span style=\"color: #808000; text-decoration-color: #808000\">visible_labels</span>=<span style=\"color: #800080; text-decoration-color: #800080; font-style: italic\">None</span><span style=\"font-weight: bold\">)</span>,                     <span style=\"color: #7f7f7f; text-decoration-color: #7f7f7f\">           </span>\n",
       "<span style=\"color: #7fbfbf; text-decoration-color: #7fbfbf\">                    </span>         <span style=\"color: #808000; text-decoration-color: #808000\">strategy</span>=<span style=\"font-weight: bold\">&lt;</span><span style=\"color: #ff00ff; text-decoration-color: #ff00ff; font-weight: bold\">LabelQuestionStrategy.MAJORITY:</span><span style=\"color: #000000; text-decoration-color: #000000\"> </span><span style=\"color: #008000; text-decoration-color: #008000\">'majority'</span><span style=\"color: #000000; text-decoration-color: #000000\">&gt;</span><span style=\"color: #000000; text-decoration-color: #000000; font-weight: bold\">))</span>                    <span style=\"color: #7f7f7f; text-decoration-color: #7f7f7f\">           </span>\n",
       "<span style=\"color: #7fbfbf; text-decoration-color: #7fbfbf\">                    </span>         <span style=\"color: #000000; text-decoration-color: #000000\">                train_size: </span><span style=\"color: #008080; text-decoration-color: #008080; font-weight: bold\">0.8</span>                                            <span style=\"color: #7f7f7f; text-decoration-color: #7f7f7f\">           </span>\n",
       "<span style=\"color: #7fbfbf; text-decoration-color: #7fbfbf\">                    </span>         <span style=\"color: #000000; text-decoration-color: #000000\">                seed: </span><span style=\"color: #800080; text-decoration-color: #800080; font-style: italic\">None</span>                                                 <span style=\"color: #7f7f7f; text-decoration-color: #7f7f7f\">           </span>\n",
       "<span style=\"color: #7fbfbf; text-decoration-color: #7fbfbf\">                    </span>                                                                                    <span style=\"color: #7f7f7f; text-decoration-color: #7f7f7f\">           </span>\n",
       "<span style=\"color: #7fbfbf; text-decoration-color: #7fbfbf\">                    </span>                                                                                    <span style=\"color: #7f7f7f; text-decoration-color: #7f7f7f\">           </span>\n",
       "<span style=\"color: #7fbfbf; text-decoration-color: #7fbfbf\">                    </span>         <span style=\"color: #000000; text-decoration-color: #000000\">            &lt;class </span>                                                        <span style=\"color: #7f7f7f; text-decoration-color: #7f7f7f\">           </span>\n",
       "<span style=\"color: #7fbfbf; text-decoration-color: #7fbfbf\">                    </span>         <span style=\"color: #008000; text-decoration-color: #008000\">'argilla.client.feedback.training.frameworks.spacy.ArgillaSpaCyTrainer'</span><span style=\"font-weight: bold\">&gt;</span>   <span style=\"color: #7f7f7f; text-decoration-color: #7f7f7f\">           </span>\n",
       "<span style=\"color: #7fbfbf; text-decoration-color: #7fbfbf\">                    </span>         info:                                                                      <span style=\"color: #7f7f7f; text-decoration-color: #7f7f7f\">           </span>\n",
       "<span style=\"color: #7fbfbf; text-decoration-color: #7fbfbf\">                    </span>                     ______________________________________________________________ <span style=\"color: #7f7f7f; text-decoration-color: #7f7f7f\">           </span>\n",
       "<span style=\"color: #7fbfbf; text-decoration-color: #7fbfbf\">                    </span>         ___                                                                        <span style=\"color: #7f7f7f; text-decoration-color: #7f7f7f\">           </span>\n",
       "<span style=\"color: #7fbfbf; text-decoration-color: #7fbfbf\">                    </span>                     The parameters are configurable via `<span style=\"color: #800080; text-decoration-color: #800080; font-weight: bold\">trainer.update_config</span><span style=\"font-weight: bold\">()</span>`: <span style=\"color: #7f7f7f; text-decoration-color: #7f7f7f\">           </span>\n",
       "<span style=\"color: #7fbfbf; text-decoration-color: #7fbfbf\">                    </span>                         WARNING:`ArgillaSpaCyTrainer.update_config` only supports  <span style=\"color: #7f7f7f; text-decoration-color: #7f7f7f\">           </span>\n",
       "<span style=\"color: #7fbfbf; text-decoration-color: #7fbfbf\">                    </span>         the update of the `training` arguments defined in the `config.yaml`.       <span style=\"color: #7f7f7f; text-decoration-color: #7f7f7f\">           </span>\n",
       "<span style=\"color: #7fbfbf; text-decoration-color: #7fbfbf\">                    </span>                                                                                    <span style=\"color: #7f7f7f; text-decoration-color: #7f7f7f\">           </span>\n",
       "<span style=\"color: #7fbfbf; text-decoration-color: #7fbfbf\">                    </span>         `ArgillaSpaCyTrainer`                                                      <span style=\"color: #7f7f7f; text-decoration-color: #7f7f7f\">           </span>\n",
       "<span style=\"color: #7fbfbf; text-decoration-color: #7fbfbf\">                    </span>                 dev_corpus: corpora.dev                                            <span style=\"color: #7f7f7f; text-decoration-color: #7f7f7f\">           </span>\n",
       "<span style=\"color: #7fbfbf; text-decoration-color: #7fbfbf\">                    </span>                 train_corpus: corpora.train                                        <span style=\"color: #7f7f7f; text-decoration-color: #7f7f7f\">           </span>\n",
       "<span style=\"color: #7fbfbf; text-decoration-color: #7fbfbf\">                    </span>                 seed: $<span style=\"font-weight: bold\">{</span>system.seed<span style=\"font-weight: bold\">}</span>                                               <span style=\"color: #7f7f7f; text-decoration-color: #7f7f7f\">           </span>\n",
       "<span style=\"color: #7fbfbf; text-decoration-color: #7fbfbf\">                    </span>                 gpu_allocator: $<span style=\"font-weight: bold\">{</span>system.gpu_allocator<span style=\"font-weight: bold\">}</span>                             <span style=\"color: #7f7f7f; text-decoration-color: #7f7f7f\">           </span>\n",
       "<span style=\"color: #7fbfbf; text-decoration-color: #7fbfbf\">                    </span>                 dropout: <span style=\"color: #008080; text-decoration-color: #008080; font-weight: bold\">0.1</span>                                                       <span style=\"color: #7f7f7f; text-decoration-color: #7f7f7f\">           </span>\n",
       "<span style=\"color: #7fbfbf; text-decoration-color: #7fbfbf\">                    </span>                 accumulate_gradient: <span style=\"color: #008080; text-decoration-color: #008080; font-weight: bold\">1</span>                                             <span style=\"color: #7f7f7f; text-decoration-color: #7f7f7f\">           </span>\n",
       "<span style=\"color: #7fbfbf; text-decoration-color: #7fbfbf\">                    </span>                 patience: <span style=\"color: #008080; text-decoration-color: #008080; font-weight: bold\">1600</span>                                                     <span style=\"color: #7f7f7f; text-decoration-color: #7f7f7f\">           </span>\n",
       "<span style=\"color: #7fbfbf; text-decoration-color: #7fbfbf\">                    </span>                 max_epochs: <span style=\"color: #008080; text-decoration-color: #008080; font-weight: bold\">0</span>                                                      <span style=\"color: #7f7f7f; text-decoration-color: #7f7f7f\">           </span>\n",
       "<span style=\"color: #7fbfbf; text-decoration-color: #7fbfbf\">                    </span>                 max_steps: <span style=\"color: #008080; text-decoration-color: #008080; font-weight: bold\">20000</span>                                                   <span style=\"color: #7f7f7f; text-decoration-color: #7f7f7f\">           </span>\n",
       "<span style=\"color: #7fbfbf; text-decoration-color: #7fbfbf\">                    </span>                 eval_frequency: <span style=\"color: #008080; text-decoration-color: #008080; font-weight: bold\">200</span>                                                <span style=\"color: #7f7f7f; text-decoration-color: #7f7f7f\">           </span>\n",
       "<span style=\"color: #7fbfbf; text-decoration-color: #7fbfbf\">                    </span>                 frozen_components: <span style=\"font-weight: bold\">[]</span>                                              <span style=\"color: #7f7f7f; text-decoration-color: #7f7f7f\">           </span>\n",
       "<span style=\"color: #7fbfbf; text-decoration-color: #7fbfbf\">                    </span>                 annotating_components: <span style=\"font-weight: bold\">[]</span>                                          <span style=\"color: #7f7f7f; text-decoration-color: #7f7f7f\">           </span>\n",
       "<span style=\"color: #7fbfbf; text-decoration-color: #7fbfbf\">                    </span>                 before_to_disk: <span style=\"color: #800080; text-decoration-color: #800080; font-style: italic\">None</span>                                               <span style=\"color: #7f7f7f; text-decoration-color: #7f7f7f\">           </span>\n",
       "<span style=\"color: #7fbfbf; text-decoration-color: #7fbfbf\">                    </span>                 before_update: <span style=\"color: #800080; text-decoration-color: #800080; font-style: italic\">None</span>                                                <span style=\"color: #7f7f7f; text-decoration-color: #7f7f7f\">           </span>\n",
       "<span style=\"color: #7fbfbf; text-decoration-color: #7fbfbf\">                    </span>                                                                                    <span style=\"color: #7f7f7f; text-decoration-color: #7f7f7f\">           </span>\n",
       "<span style=\"color: #7fbfbf; text-decoration-color: #7fbfbf\">                    </span>                     Using the trainer:                                             <span style=\"color: #7f7f7f; text-decoration-color: #7f7f7f\">           </span>\n",
       "<span style=\"color: #7fbfbf; text-decoration-color: #7fbfbf\">                    </span>                     ______________________________________________________________ <span style=\"color: #7f7f7f; text-decoration-color: #7f7f7f\">           </span>\n",
       "<span style=\"color: #7fbfbf; text-decoration-color: #7fbfbf\">                    </span>         ___                                                                        <span style=\"color: #7f7f7f; text-decoration-color: #7f7f7f\">           </span>\n",
       "<span style=\"color: #7fbfbf; text-decoration-color: #7fbfbf\">                    </span>                     `<span style=\"color: #800080; text-decoration-color: #800080; font-weight: bold\">trainer.train</span><span style=\"font-weight: bold\">(</span>output_dir<span style=\"font-weight: bold\">)</span>` to train to start training.        <span style=\"color: #7f7f7f; text-decoration-color: #7f7f7f\">           </span>\n",
       "<span style=\"color: #7fbfbf; text-decoration-color: #7fbfbf\">                    </span>         `output_dir` is the directory to save the model automatically.             <span style=\"color: #7f7f7f; text-decoration-color: #7f7f7f\">           </span>\n",
       "<span style=\"color: #7fbfbf; text-decoration-color: #7fbfbf\">                    </span>                     `<span style=\"color: #800080; text-decoration-color: #800080; font-weight: bold\">trainer.predict</span><span style=\"font-weight: bold\">(</span>text, <span style=\"color: #808000; text-decoration-color: #808000\">as_argilla_records</span>=<span style=\"color: #00ff00; text-decoration-color: #00ff00; font-style: italic\">True</span><span style=\"font-weight: bold\">)</span>` to make       <span style=\"color: #7f7f7f; text-decoration-color: #7f7f7f\">           </span>\n",
       "<span style=\"color: #7fbfbf; text-decoration-color: #7fbfbf\">                    </span>         predictions.                                                               <span style=\"color: #7f7f7f; text-decoration-color: #7f7f7f\">           </span>\n",
       "<span style=\"color: #7fbfbf; text-decoration-color: #7fbfbf\">                    </span>                     `<span style=\"color: #800080; text-decoration-color: #800080; font-weight: bold\">trainer.save</span><span style=\"font-weight: bold\">(</span>output_dir<span style=\"font-weight: bold\">)</span>` to save the model manually.         <span style=\"color: #7f7f7f; text-decoration-color: #7f7f7f\">           </span>\n",
       "<span style=\"color: #7fbfbf; text-decoration-color: #7fbfbf\">                    </span>                                                                                    <span style=\"color: #7f7f7f; text-decoration-color: #7f7f7f\">           </span>\n",
       "</pre>\n"
      ],
      "text/plain": [
       "\u001b[2;36m[12/16/23 18:20:21]\u001b[0m\u001b[2;36m \u001b[0m\u001b[34mINFO    \u001b[0m INFO:ArgillaTrainer:            ArgillaBaseTrainer info:                   \u001b]8;id=869034;file:///home/ankush/workplace/os_repos/argilla/src/argilla/client/feedback/training/base.py\u001b\\\u001b[2mbase.py\u001b[0m\u001b]8;;\u001b\\\u001b[2m:\u001b[0m\u001b]8;id=623136;file:///home/ankush/workplace/os_repos/argilla/src/argilla/client/feedback/training/base.py#227\u001b\\\u001b[2m227\u001b[0m\u001b]8;;\u001b\\\n",
       "\u001b[2;36m                    \u001b[0m                     ______________________________________________________________ \u001b[2m           \u001b[0m\n",
       "\u001b[2;36m                    \u001b[0m         ___                                                                        \u001b[2m           \u001b[0m\n",
       "\u001b[2;36m                    \u001b[0m                     These baseline params are fixed:                               \u001b[2m           \u001b[0m\n",
       "\u001b[2;36m                    \u001b[0m                         dataset: \u001b[1;35mRemoteFeedbackDataset\u001b[0m\u001b[1m(\u001b[0m                            \u001b[2m           \u001b[0m\n",
       "\u001b[2;36m                    \u001b[0m            \u001b[33mid\u001b[0m=\u001b[93mb1c36afb\u001b[0m\u001b[93m-5903-4846-b3c8-517bb05a7b4e\u001b[0m                                 \u001b[2m           \u001b[0m\n",
       "\u001b[2;36m                    \u001b[0m            \u001b[33mname\u001b[0m=\u001b[35mimdb_movie_reviews\u001b[0m                                                 \u001b[2m           \u001b[0m\n",
       "\u001b[2;36m                    \u001b[0m            \u001b[33mworkspace\u001b[0m=\u001b[1;35mWorkspace\u001b[0m\u001b[1m(\u001b[0m\u001b[33mid\u001b[0m=\u001b[93m2f16a2ae\u001b[0m\u001b[93m-f42b-4470-ba95-9079f8f8a384\u001b[0m,            \u001b[2m           \u001b[0m\n",
       "\u001b[2;36m                    \u001b[0m         \u001b[33mname\u001b[0m=\u001b[35mhello\u001b[0m-world-workspace, \u001b[33minserted_at\u001b[0m=\u001b[1;36m2023\u001b[0m-\u001b[1;36m12\u001b[0m-\u001b[1;36m16\u001b[0m \u001b[1;92m11:11:20\u001b[0m.\u001b[1;36m015212\u001b[0m,        \u001b[2m           \u001b[0m\n",
       "\u001b[2;36m                    \u001b[0m         \u001b[33mupdated_at\u001b[0m=\u001b[1;36m2023\u001b[0m-\u001b[1;36m12\u001b[0m-\u001b[1;36m16\u001b[0m \u001b[1;92m11:11:20\u001b[0m.\u001b[1;36m015212\u001b[0m\u001b[1m)\u001b[0m                                     \u001b[2m           \u001b[0m\n",
       "\u001b[2;36m                    \u001b[0m            \u001b[33murl\u001b[0m=\u001b[4;94mhttp\u001b[0m\u001b[4;94m://localhost:6900/dataset/b1c36afb-5903-4846-b3c8-517bb05a7b4e/\u001b[0m \u001b[2m           \u001b[0m\n",
       "\u001b[2;36m                    \u001b[0m         \u001b[4;94mannotation-mode\u001b[0m                                                            \u001b[2m           \u001b[0m\n",
       "\u001b[2;36m                    \u001b[0m            \u001b[33mfields\u001b[0m=\u001b[1m[\u001b[0m\u001b[1;35mRemoteTextField\u001b[0m\u001b[1m(\u001b[0m\u001b[33mid\u001b[0m=\u001b[1;35mUUID\u001b[0m\u001b[1m(\u001b[0m\u001b[32m'609faf0b-3c15-4a41-9a66-0145c016e5b0'\u001b[0m\u001b[1m)\u001b[0m \u001b[2m           \u001b[0m\n",
       "\u001b[2;36m                    \u001b[0m         , \u001b[33mclient\u001b[0m=\u001b[3;35mNone\u001b[0m, \u001b[33mname\u001b[0m=\u001b[32m'text'\u001b[0m, \u001b[33mtitle\u001b[0m=\u001b[32m'text'\u001b[0m, \u001b[33mrequired\u001b[0m=\u001b[3;92mTrue\u001b[0m, \u001b[33mtype\u001b[0m=\u001b[32m'text'\u001b[0m,      \u001b[2m           \u001b[0m\n",
       "\u001b[2;36m                    \u001b[0m         \u001b[33muse_markdown\u001b[0m=\u001b[3;91mFalse\u001b[0m\u001b[1m)\u001b[0m,                                                       \u001b[2m           \u001b[0m\n",
       "\u001b[2;36m                    \u001b[0m         \u001b[1;35mRemoteTextField\u001b[0m\u001b[1m(\u001b[0m\u001b[33mid\u001b[0m=\u001b[1;35mUUID\u001b[0m\u001b[1m(\u001b[0m\u001b[32m'5050f2ea-5eee-4308-850b-fe88a8a8867b'\u001b[0m\u001b[1m)\u001b[0m,           \u001b[2m           \u001b[0m\n",
       "\u001b[2;36m                    \u001b[0m         \u001b[33mclient\u001b[0m=\u001b[3;35mNone\u001b[0m, \u001b[33mname\u001b[0m=\u001b[32m'label'\u001b[0m, \u001b[33mtitle\u001b[0m=\u001b[32m'label'\u001b[0m, \u001b[33mrequired\u001b[0m=\u001b[3;92mTrue\u001b[0m, \u001b[33mtype\u001b[0m=\u001b[32m'text'\u001b[0m,      \u001b[2m           \u001b[0m\n",
       "\u001b[2;36m                    \u001b[0m         \u001b[33muse_markdown\u001b[0m=\u001b[3;91mFalse\u001b[0m\u001b[1m)\u001b[0m\u001b[1m]\u001b[0m                                                       \u001b[2m           \u001b[0m\n",
       "\u001b[2;36m                    \u001b[0m            \u001b[33mquestions\u001b[0m=\u001b[1m[\u001b[0m\u001b[1;35mRemoteLabelQuestion\u001b[0m\u001b[1m(\u001b[0m\u001b[33mid\u001b[0m=\u001b[1;35mUUID\u001b[0m\u001b[1m(\u001b[0m\u001b[32m'd060ec81-1925-401e-b756-bd85bf8\u001b[0m \u001b[2m           \u001b[0m\n",
       "\u001b[2;36m                    \u001b[0m         \u001b[32mfe373'\u001b[0m\u001b[1m)\u001b[0m, \u001b[33mclient\u001b[0m=\u001b[3;35mNone\u001b[0m, \u001b[33mname\u001b[0m=\u001b[32m'label'\u001b[0m, \u001b[33mtitle\u001b[0m=\u001b[32m'Label'\u001b[0m, \u001b[33mdescription\u001b[0m=\u001b[3;35mNone\u001b[0m,       \u001b[2m           \u001b[0m\n",
       "\u001b[2;36m                    \u001b[0m         \u001b[33mrequired\u001b[0m=\u001b[3;92mTrue\u001b[0m, \u001b[33mtype\u001b[0m=\u001b[32m'label_selection'\u001b[0m, \u001b[33mlabels\u001b[0m=\u001b[1m[\u001b[0m\u001b[32m'positive'\u001b[0m, \u001b[32m'negative'\u001b[0m\u001b[1m]\u001b[0m,    \u001b[2m           \u001b[0m\n",
       "\u001b[2;36m                    \u001b[0m         \u001b[33mvisible_labels\u001b[0m=\u001b[3;35mNone\u001b[0m\u001b[1m)\u001b[0m\u001b[1m]\u001b[0m                                                      \u001b[2m           \u001b[0m\n",
       "\u001b[2;36m                    \u001b[0m            \u001b[33mguidelines\u001b[0m=\u001b[3;35mNone\u001b[0m                                                         \u001b[2m           \u001b[0m\n",
       "\u001b[2;36m                    \u001b[0m            \u001b[33mmetadata_properties\u001b[0m=\u001b[1m[\u001b[0m\u001b[1m]\u001b[0m                                                  \u001b[2m           \u001b[0m\n",
       "\u001b[2;36m                    \u001b[0m         \u001b[1m)\u001b[0m                                                                          \u001b[2m           \u001b[0m\n",
       "\u001b[2;36m                    \u001b[0m                         task: \u001b[33mformatting_func\u001b[0m=\u001b[3;35mNone\u001b[0m                                 \u001b[2m           \u001b[0m\n",
       "\u001b[2;36m                    \u001b[0m         \u001b[33mdefaults\u001b[0m=\u001b[1;35mTextClassificationDefaults\u001b[0m\u001b[1m(\u001b[0m\u001b[33mtext\u001b[0m=\u001b[1;35mRemoteTextField\u001b[0m\u001b[1m(\u001b[0m\u001b[33mid\u001b[0m=\u001b[1;35mUUID\u001b[0m\u001b[1m(\u001b[0m\u001b[32m'609faf0b\u001b[0m \u001b[2m           \u001b[0m\n",
       "\u001b[2;36m                    \u001b[0m         \u001b[32m-3c15-4a41-9a66-0145c016e5b0'\u001b[0m\u001b[1m)\u001b[0m, \u001b[33mclient\u001b[0m=\u001b[3;35mNone\u001b[0m, \u001b[33mname\u001b[0m=\u001b[32m'text'\u001b[0m, \u001b[33mtitle\u001b[0m=\u001b[32m'text'\u001b[0m,    \u001b[2m           \u001b[0m\n",
       "\u001b[2;36m                    \u001b[0m         \u001b[33mrequired\u001b[0m=\u001b[3;92mTrue\u001b[0m, \u001b[33mtype\u001b[0m=\u001b[32m'text'\u001b[0m, \u001b[33muse_markdown\u001b[0m=\u001b[3;91mFalse\u001b[0m\u001b[1m)\u001b[0m,                           \u001b[2m           \u001b[0m\n",
       "\u001b[2;36m                    \u001b[0m         \u001b[33mlabel\u001b[0m=\u001b[1;35mLabelQuestionUnification\u001b[0m\u001b[1m(\u001b[0m\u001b[33mquestion\u001b[0m=\u001b[1;35mRemoteLabelQuestion\u001b[0m\u001b[1m(\u001b[0m\u001b[33mid\u001b[0m=\u001b[1;35mUUID\u001b[0m\u001b[1m(\u001b[0m\u001b[32m'd060e\u001b[0m \u001b[2m           \u001b[0m\n",
       "\u001b[2;36m                    \u001b[0m         \u001b[32mc81-1925-401e-b756-bd85bf8fe373'\u001b[0m\u001b[1m)\u001b[0m, \u001b[33mclient\u001b[0m=\u001b[3;35mNone\u001b[0m, \u001b[33mname\u001b[0m=\u001b[32m'label'\u001b[0m,              \u001b[2m           \u001b[0m\n",
       "\u001b[2;36m                    \u001b[0m         \u001b[33mtitle\u001b[0m=\u001b[32m'Label'\u001b[0m, \u001b[33mdescription\u001b[0m=\u001b[3;35mNone\u001b[0m, \u001b[33mrequired\u001b[0m=\u001b[3;92mTrue\u001b[0m, \u001b[33mtype\u001b[0m=\u001b[32m'label_selection'\u001b[0m,    \u001b[2m           \u001b[0m\n",
       "\u001b[2;36m                    \u001b[0m         \u001b[33mlabels\u001b[0m=\u001b[1m[\u001b[0m\u001b[32m'positive'\u001b[0m, \u001b[32m'negative'\u001b[0m\u001b[1m]\u001b[0m, \u001b[33mvisible_labels\u001b[0m=\u001b[3;35mNone\u001b[0m\u001b[1m)\u001b[0m,                     \u001b[2m           \u001b[0m\n",
       "\u001b[2;36m                    \u001b[0m         \u001b[33mstrategy\u001b[0m=\u001b[1m<\u001b[0m\u001b[1;95mLabelQuestionStrategy.MAJORITY:\u001b[0m\u001b[39m \u001b[0m\u001b[32m'majority'\u001b[0m\u001b[39m>\u001b[0m\u001b[1;39m)\u001b[0m\u001b[1;39m)\u001b[0m                    \u001b[2m           \u001b[0m\n",
       "\u001b[2;36m                    \u001b[0m         \u001b[39m                train_size: \u001b[0m\u001b[1;36m0.8\u001b[0m                                            \u001b[2m           \u001b[0m\n",
       "\u001b[2;36m                    \u001b[0m         \u001b[39m                seed: \u001b[0m\u001b[3;35mNone\u001b[0m                                                 \u001b[2m           \u001b[0m\n",
       "\u001b[2;36m                    \u001b[0m                                                                                    \u001b[2m           \u001b[0m\n",
       "\u001b[2;36m                    \u001b[0m                                                                                    \u001b[2m           \u001b[0m\n",
       "\u001b[2;36m                    \u001b[0m         \u001b[39m            <class \u001b[0m                                                        \u001b[2m           \u001b[0m\n",
       "\u001b[2;36m                    \u001b[0m         \u001b[32m'argilla.client.feedback.training.frameworks.spacy.ArgillaSpaCyTrainer'\u001b[0m\u001b[1m>\u001b[0m   \u001b[2m           \u001b[0m\n",
       "\u001b[2;36m                    \u001b[0m         info:                                                                      \u001b[2m           \u001b[0m\n",
       "\u001b[2;36m                    \u001b[0m                     ______________________________________________________________ \u001b[2m           \u001b[0m\n",
       "\u001b[2;36m                    \u001b[0m         ___                                                                        \u001b[2m           \u001b[0m\n",
       "\u001b[2;36m                    \u001b[0m                     The parameters are configurable via `\u001b[1;35mtrainer.update_config\u001b[0m\u001b[1m(\u001b[0m\u001b[1m)\u001b[0m`: \u001b[2m           \u001b[0m\n",
       "\u001b[2;36m                    \u001b[0m                         WARNING:`ArgillaSpaCyTrainer.update_config` only supports  \u001b[2m           \u001b[0m\n",
       "\u001b[2;36m                    \u001b[0m         the update of the `training` arguments defined in the `config.yaml`.       \u001b[2m           \u001b[0m\n",
       "\u001b[2;36m                    \u001b[0m                                                                                    \u001b[2m           \u001b[0m\n",
       "\u001b[2;36m                    \u001b[0m         `ArgillaSpaCyTrainer`                                                      \u001b[2m           \u001b[0m\n",
       "\u001b[2;36m                    \u001b[0m                 dev_corpus: corpora.dev                                            \u001b[2m           \u001b[0m\n",
       "\u001b[2;36m                    \u001b[0m                 train_corpus: corpora.train                                        \u001b[2m           \u001b[0m\n",
       "\u001b[2;36m                    \u001b[0m                 seed: $\u001b[1m{\u001b[0msystem.seed\u001b[1m}\u001b[0m                                               \u001b[2m           \u001b[0m\n",
       "\u001b[2;36m                    \u001b[0m                 gpu_allocator: $\u001b[1m{\u001b[0msystem.gpu_allocator\u001b[1m}\u001b[0m                             \u001b[2m           \u001b[0m\n",
       "\u001b[2;36m                    \u001b[0m                 dropout: \u001b[1;36m0.1\u001b[0m                                                       \u001b[2m           \u001b[0m\n",
       "\u001b[2;36m                    \u001b[0m                 accumulate_gradient: \u001b[1;36m1\u001b[0m                                             \u001b[2m           \u001b[0m\n",
       "\u001b[2;36m                    \u001b[0m                 patience: \u001b[1;36m1600\u001b[0m                                                     \u001b[2m           \u001b[0m\n",
       "\u001b[2;36m                    \u001b[0m                 max_epochs: \u001b[1;36m0\u001b[0m                                                      \u001b[2m           \u001b[0m\n",
       "\u001b[2;36m                    \u001b[0m                 max_steps: \u001b[1;36m20000\u001b[0m                                                   \u001b[2m           \u001b[0m\n",
       "\u001b[2;36m                    \u001b[0m                 eval_frequency: \u001b[1;36m200\u001b[0m                                                \u001b[2m           \u001b[0m\n",
       "\u001b[2;36m                    \u001b[0m                 frozen_components: \u001b[1m[\u001b[0m\u001b[1m]\u001b[0m                                              \u001b[2m           \u001b[0m\n",
       "\u001b[2;36m                    \u001b[0m                 annotating_components: \u001b[1m[\u001b[0m\u001b[1m]\u001b[0m                                          \u001b[2m           \u001b[0m\n",
       "\u001b[2;36m                    \u001b[0m                 before_to_disk: \u001b[3;35mNone\u001b[0m                                               \u001b[2m           \u001b[0m\n",
       "\u001b[2;36m                    \u001b[0m                 before_update: \u001b[3;35mNone\u001b[0m                                                \u001b[2m           \u001b[0m\n",
       "\u001b[2;36m                    \u001b[0m                                                                                    \u001b[2m           \u001b[0m\n",
       "\u001b[2;36m                    \u001b[0m                     Using the trainer:                                             \u001b[2m           \u001b[0m\n",
       "\u001b[2;36m                    \u001b[0m                     ______________________________________________________________ \u001b[2m           \u001b[0m\n",
       "\u001b[2;36m                    \u001b[0m         ___                                                                        \u001b[2m           \u001b[0m\n",
       "\u001b[2;36m                    \u001b[0m                     `\u001b[1;35mtrainer.train\u001b[0m\u001b[1m(\u001b[0moutput_dir\u001b[1m)\u001b[0m` to train to start training.        \u001b[2m           \u001b[0m\n",
       "\u001b[2;36m                    \u001b[0m         `output_dir` is the directory to save the model automatically.             \u001b[2m           \u001b[0m\n",
       "\u001b[2;36m                    \u001b[0m                     `\u001b[1;35mtrainer.predict\u001b[0m\u001b[1m(\u001b[0mtext, \u001b[33mas_argilla_records\u001b[0m=\u001b[3;92mTrue\u001b[0m\u001b[1m)\u001b[0m` to make       \u001b[2m           \u001b[0m\n",
       "\u001b[2;36m                    \u001b[0m         predictions.                                                               \u001b[2m           \u001b[0m\n",
       "\u001b[2;36m                    \u001b[0m                     `\u001b[1;35mtrainer.save\u001b[0m\u001b[1m(\u001b[0moutput_dir\u001b[1m)\u001b[0m` to save the model manually.         \u001b[2m           \u001b[0m\n",
       "\u001b[2;36m                    \u001b[0m                                                                                    \u001b[2m           \u001b[0m\n"
      ]
     },
     "metadata": {},
     "output_type": "display_data"
    },
    {
     "data": {
      "text/html": [
       "<pre style=\"white-space:pre;overflow-x:auto;line-height:normal;font-family:Menlo,'DejaVu Sans Mono',consolas,'Courier New',monospace\"><span style=\"color: #7fbfbf; text-decoration-color: #7fbfbf\">                    </span><span style=\"color: #800000; text-decoration-color: #800000\">WARNING </span> WARNING:segment:Dictionary values must be serializeable to JSON            <a href=\"file:///home/ankush/anaconda3/envs/argilla_dev_env/lib/python3.9/site-packages/analytics/utils.py\" target=\"_blank\"><span style=\"color: #7f7f7f; text-decoration-color: #7f7f7f\">utils.py</span></a><span style=\"color: #7f7f7f; text-decoration-color: #7f7f7f\">:</span><a href=\"file:///home/ankush/anaconda3/envs/argilla_dev_env/lib/python3.9/site-packages/analytics/utils.py#71\" target=\"_blank\"><span style=\"color: #7f7f7f; text-decoration-color: #7f7f7f\">71</span></a>\n",
       "<span style=\"color: #7fbfbf; text-decoration-color: #7fbfbf\">                    </span>         <span style=\"color: #008000; text-decoration-color: #008000\">\"framework\"</span> value spacy of type <span style=\"font-weight: bold\">&lt;</span><span style=\"color: #ff00ff; text-decoration-color: #ff00ff; font-weight: bold\">enum</span><span style=\"color: #000000; text-decoration-color: #000000\"> </span><span style=\"color: #008000; text-decoration-color: #008000\">'Framework'</span><span style=\"font-weight: bold\">&gt;</span> is unsupported.         <span style=\"color: #7f7f7f; text-decoration-color: #7f7f7f\">           </span>\n",
       "</pre>\n"
      ],
      "text/plain": [
       "\u001b[2;36m                   \u001b[0m\u001b[2;36m \u001b[0m\u001b[31mWARNING \u001b[0m WARNING:segment:Dictionary values must be serializeable to JSON            \u001b]8;id=999941;file:///home/ankush/anaconda3/envs/argilla_dev_env/lib/python3.9/site-packages/analytics/utils.py\u001b\\\u001b[2mutils.py\u001b[0m\u001b]8;;\u001b\\\u001b[2m:\u001b[0m\u001b]8;id=470872;file:///home/ankush/anaconda3/envs/argilla_dev_env/lib/python3.9/site-packages/analytics/utils.py#71\u001b\\\u001b[2m71\u001b[0m\u001b]8;;\u001b\\\n",
       "\u001b[2;36m                    \u001b[0m         \u001b[32m\"framework\"\u001b[0m value spacy of type \u001b[1m<\u001b[0m\u001b[1;95menum\u001b[0m\u001b[39m \u001b[0m\u001b[32m'Framework'\u001b[0m\u001b[1m>\u001b[0m is unsupported.         \u001b[2m           \u001b[0m\n"
      ]
     },
     "metadata": {},
     "output_type": "display_data"
    },
    {
     "data": {
      "text/html": [
       "<pre style=\"white-space:pre;overflow-x:auto;line-height:normal;font-family:Menlo,'DejaVu Sans Mono',consolas,'Courier New',monospace\"><span style=\"color: #7fbfbf; text-decoration-color: #7fbfbf\">                    </span><span style=\"color: #000080; text-decoration-color: #000080\">INFO    </span> INFO:ArgillaTrainer:Updated parameters:                                    <a href=\"file:///home/ankush/workplace/os_repos/argilla/src/argilla/training/base.py\" target=\"_blank\"><span style=\"color: #7f7f7f; text-decoration-color: #7f7f7f\">base.py</span></a><span style=\"color: #7f7f7f; text-decoration-color: #7f7f7f\">:</span><a href=\"file:///home/ankush/workplace/os_repos/argilla/src/argilla/training/base.py#270\" target=\"_blank\"><span style=\"color: #7f7f7f; text-decoration-color: #7f7f7f\">270</span></a>\n",
       "<span style=\"color: #7fbfbf; text-decoration-color: #7fbfbf\">                    </span>         _________________________________________________________________          <span style=\"color: #7f7f7f; text-decoration-color: #7f7f7f\">           </span>\n",
       "<span style=\"color: #7fbfbf; text-decoration-color: #7fbfbf\">                    </span>         WARNING:`ArgillaSpaCyTrainer.update_config` only supports the update of    <span style=\"color: #7f7f7f; text-decoration-color: #7f7f7f\">           </span>\n",
       "<span style=\"color: #7fbfbf; text-decoration-color: #7fbfbf\">                    </span>         the `training` arguments defined in the `config.yaml`.                     <span style=\"color: #7f7f7f; text-decoration-color: #7f7f7f\">           </span>\n",
       "<span style=\"color: #7fbfbf; text-decoration-color: #7fbfbf\">                    </span>                                                                                    <span style=\"color: #7f7f7f; text-decoration-color: #7f7f7f\">           </span>\n",
       "<span style=\"color: #7fbfbf; text-decoration-color: #7fbfbf\">                    </span>         `ArgillaSpaCyTrainer`                                                      <span style=\"color: #7f7f7f; text-decoration-color: #7f7f7f\">           </span>\n",
       "<span style=\"color: #7fbfbf; text-decoration-color: #7fbfbf\">                    </span>                 dev_corpus: corpora.dev                                            <span style=\"color: #7f7f7f; text-decoration-color: #7f7f7f\">           </span>\n",
       "<span style=\"color: #7fbfbf; text-decoration-color: #7fbfbf\">                    </span>                 train_corpus: corpora.train                                        <span style=\"color: #7f7f7f; text-decoration-color: #7f7f7f\">           </span>\n",
       "<span style=\"color: #7fbfbf; text-decoration-color: #7fbfbf\">                    </span>                 seed: $<span style=\"font-weight: bold\">{</span>system.seed<span style=\"font-weight: bold\">}</span>                                               <span style=\"color: #7f7f7f; text-decoration-color: #7f7f7f\">           </span>\n",
       "<span style=\"color: #7fbfbf; text-decoration-color: #7fbfbf\">                    </span>                 gpu_allocator: <span style=\"color: #008080; text-decoration-color: #008080; font-weight: bold\">1</span>                                                   <span style=\"color: #7f7f7f; text-decoration-color: #7f7f7f\">           </span>\n",
       "<span style=\"color: #7fbfbf; text-decoration-color: #7fbfbf\">                    </span>                 dropout: <span style=\"color: #008080; text-decoration-color: #008080; font-weight: bold\">0.1</span>                                                       <span style=\"color: #7f7f7f; text-decoration-color: #7f7f7f\">           </span>\n",
       "<span style=\"color: #7fbfbf; text-decoration-color: #7fbfbf\">                    </span>                 accumulate_gradient: <span style=\"color: #008080; text-decoration-color: #008080; font-weight: bold\">1</span>                                             <span style=\"color: #7f7f7f; text-decoration-color: #7f7f7f\">           </span>\n",
       "<span style=\"color: #7fbfbf; text-decoration-color: #7fbfbf\">                    </span>                 patience: <span style=\"color: #008080; text-decoration-color: #008080; font-weight: bold\">1600</span>                                                     <span style=\"color: #7f7f7f; text-decoration-color: #7f7f7f\">           </span>\n",
       "<span style=\"color: #7fbfbf; text-decoration-color: #7fbfbf\">                    </span>                 max_epochs: <span style=\"color: #008080; text-decoration-color: #008080; font-weight: bold\">0</span>                                                      <span style=\"color: #7f7f7f; text-decoration-color: #7f7f7f\">           </span>\n",
       "<span style=\"color: #7fbfbf; text-decoration-color: #7fbfbf\">                    </span>                 max_steps: <span style=\"color: #008080; text-decoration-color: #008080; font-weight: bold\">2000</span>                                                    <span style=\"color: #7f7f7f; text-decoration-color: #7f7f7f\">           </span>\n",
       "<span style=\"color: #7fbfbf; text-decoration-color: #7fbfbf\">                    </span>                 eval_frequency: <span style=\"color: #008080; text-decoration-color: #008080; font-weight: bold\">200</span>                                                <span style=\"color: #7f7f7f; text-decoration-color: #7f7f7f\">           </span>\n",
       "<span style=\"color: #7fbfbf; text-decoration-color: #7fbfbf\">                    </span>                 frozen_components: <span style=\"font-weight: bold\">[]</span>                                              <span style=\"color: #7f7f7f; text-decoration-color: #7f7f7f\">           </span>\n",
       "<span style=\"color: #7fbfbf; text-decoration-color: #7fbfbf\">                    </span>                 annotating_components: <span style=\"font-weight: bold\">[]</span>                                          <span style=\"color: #7f7f7f; text-decoration-color: #7f7f7f\">           </span>\n",
       "<span style=\"color: #7fbfbf; text-decoration-color: #7fbfbf\">                    </span>                 before_to_disk: <span style=\"color: #800080; text-decoration-color: #800080; font-style: italic\">None</span>                                               <span style=\"color: #7f7f7f; text-decoration-color: #7f7f7f\">           </span>\n",
       "<span style=\"color: #7fbfbf; text-decoration-color: #7fbfbf\">                    </span>                 before_update: <span style=\"color: #800080; text-decoration-color: #800080; font-style: italic\">None</span>                                                <span style=\"color: #7f7f7f; text-decoration-color: #7f7f7f\">           </span>\n",
       "</pre>\n"
      ],
      "text/plain": [
       "\u001b[2;36m                   \u001b[0m\u001b[2;36m \u001b[0m\u001b[34mINFO    \u001b[0m INFO:ArgillaTrainer:Updated parameters:                                    \u001b]8;id=833320;file:///home/ankush/workplace/os_repos/argilla/src/argilla/training/base.py\u001b\\\u001b[2mbase.py\u001b[0m\u001b]8;;\u001b\\\u001b[2m:\u001b[0m\u001b]8;id=466695;file:///home/ankush/workplace/os_repos/argilla/src/argilla/training/base.py#270\u001b\\\u001b[2m270\u001b[0m\u001b]8;;\u001b\\\n",
       "\u001b[2;36m                    \u001b[0m         _________________________________________________________________          \u001b[2m           \u001b[0m\n",
       "\u001b[2;36m                    \u001b[0m         WARNING:`ArgillaSpaCyTrainer.update_config` only supports the update of    \u001b[2m           \u001b[0m\n",
       "\u001b[2;36m                    \u001b[0m         the `training` arguments defined in the `config.yaml`.                     \u001b[2m           \u001b[0m\n",
       "\u001b[2;36m                    \u001b[0m                                                                                    \u001b[2m           \u001b[0m\n",
       "\u001b[2;36m                    \u001b[0m         `ArgillaSpaCyTrainer`                                                      \u001b[2m           \u001b[0m\n",
       "\u001b[2;36m                    \u001b[0m                 dev_corpus: corpora.dev                                            \u001b[2m           \u001b[0m\n",
       "\u001b[2;36m                    \u001b[0m                 train_corpus: corpora.train                                        \u001b[2m           \u001b[0m\n",
       "\u001b[2;36m                    \u001b[0m                 seed: $\u001b[1m{\u001b[0msystem.seed\u001b[1m}\u001b[0m                                               \u001b[2m           \u001b[0m\n",
       "\u001b[2;36m                    \u001b[0m                 gpu_allocator: \u001b[1;36m1\u001b[0m                                                   \u001b[2m           \u001b[0m\n",
       "\u001b[2;36m                    \u001b[0m                 dropout: \u001b[1;36m0.1\u001b[0m                                                       \u001b[2m           \u001b[0m\n",
       "\u001b[2;36m                    \u001b[0m                 accumulate_gradient: \u001b[1;36m1\u001b[0m                                             \u001b[2m           \u001b[0m\n",
       "\u001b[2;36m                    \u001b[0m                 patience: \u001b[1;36m1600\u001b[0m                                                     \u001b[2m           \u001b[0m\n",
       "\u001b[2;36m                    \u001b[0m                 max_epochs: \u001b[1;36m0\u001b[0m                                                      \u001b[2m           \u001b[0m\n",
       "\u001b[2;36m                    \u001b[0m                 max_steps: \u001b[1;36m2000\u001b[0m                                                    \u001b[2m           \u001b[0m\n",
       "\u001b[2;36m                    \u001b[0m                 eval_frequency: \u001b[1;36m200\u001b[0m                                                \u001b[2m           \u001b[0m\n",
       "\u001b[2;36m                    \u001b[0m                 frozen_components: \u001b[1m[\u001b[0m\u001b[1m]\u001b[0m                                              \u001b[2m           \u001b[0m\n",
       "\u001b[2;36m                    \u001b[0m                 annotating_components: \u001b[1m[\u001b[0m\u001b[1m]\u001b[0m                                          \u001b[2m           \u001b[0m\n",
       "\u001b[2;36m                    \u001b[0m                 before_to_disk: \u001b[3;35mNone\u001b[0m                                               \u001b[2m           \u001b[0m\n",
       "\u001b[2;36m                    \u001b[0m                 before_update: \u001b[3;35mNone\u001b[0m                                                \u001b[2m           \u001b[0m\n"
      ]
     },
     "metadata": {},
     "output_type": "display_data"
    },
    {
     "data": {
      "text/html": [
       "<pre style=\"white-space:pre;overflow-x:auto;line-height:normal;font-family:Menlo,'DejaVu Sans Mono',consolas,'Courier New',monospace\"><span style=\"color: #7fbfbf; text-decoration-color: #7fbfbf\">                    </span><span style=\"color: #800000; text-decoration-color: #800000\">WARNING </span> WARNING:ArgillaSpaCyTrainer:Note that the spaCy training is expected to   <a href=\"file:///home/ankush/workplace/os_repos/argilla/src/argilla/training/spacy.py\" target=\"_blank\"><span style=\"color: #7f7f7f; text-decoration-color: #7f7f7f\">spacy.py</span></a><span style=\"color: #7f7f7f; text-decoration-color: #7f7f7f\">:</span><a href=\"file:///home/ankush/workplace/os_repos/argilla/src/argilla/training/spacy.py#182\" target=\"_blank\"><span style=\"color: #7f7f7f; text-decoration-color: #7f7f7f\">182</span></a>\n",
       "<span style=\"color: #7fbfbf; text-decoration-color: #7fbfbf\">                    </span>         be used through the CLI rather than programmatically, so the dataset      <span style=\"color: #7f7f7f; text-decoration-color: #7f7f7f\">            </span>\n",
       "<span style=\"color: #7fbfbf; text-decoration-color: #7fbfbf\">                    </span>         needs to be dumped into the disk and then loaded from disk. More          <span style=\"color: #7f7f7f; text-decoration-color: #7f7f7f\">            </span>\n",
       "<span style=\"color: #7fbfbf; text-decoration-color: #7fbfbf\">                    </span>         information at <span style=\"color: #0000ff; text-decoration-color: #0000ff; text-decoration: underline\">https://spacy.io/usage/training#api</span>                        <span style=\"color: #7f7f7f; text-decoration-color: #7f7f7f\">            </span>\n",
       "</pre>\n"
      ],
      "text/plain": [
       "\u001b[2;36m                   \u001b[0m\u001b[2;36m \u001b[0m\u001b[31mWARNING \u001b[0m WARNING:ArgillaSpaCyTrainer:Note that the spaCy training is expected to   \u001b]8;id=224549;file:///home/ankush/workplace/os_repos/argilla/src/argilla/training/spacy.py\u001b\\\u001b[2mspacy.py\u001b[0m\u001b]8;;\u001b\\\u001b[2m:\u001b[0m\u001b]8;id=971204;file:///home/ankush/workplace/os_repos/argilla/src/argilla/training/spacy.py#182\u001b\\\u001b[2m182\u001b[0m\u001b]8;;\u001b\\\n",
       "\u001b[2;36m                    \u001b[0m         be used through the CLI rather than programmatically, so the dataset      \u001b[2m            \u001b[0m\n",
       "\u001b[2;36m                    \u001b[0m         needs to be dumped into the disk and then loaded from disk. More          \u001b[2m            \u001b[0m\n",
       "\u001b[2;36m                    \u001b[0m         information at \u001b[4;94mhttps://spacy.io/usage/training#api\u001b[0m                        \u001b[2m            \u001b[0m\n"
      ]
     },
     "metadata": {},
     "output_type": "display_data"
    },
    {
     "data": {
      "text/html": [
       "<pre style=\"white-space:pre;overflow-x:auto;line-height:normal;font-family:Menlo,'DejaVu Sans Mono',consolas,'Courier New',monospace\"><span style=\"color: #7fbfbf; text-decoration-color: #7fbfbf\">                    </span><span style=\"color: #000080; text-decoration-color: #000080\">INFO    </span> INFO:ArgillaSpaCyTrainer:Dumping the train dataset to .<span style=\"color: #800080; text-decoration-color: #800080\">/</span><span style=\"color: #ff00ff; text-decoration-color: #ff00ff\">train.spacy</span>       <a href=\"file:///home/ankush/workplace/os_repos/argilla/src/argilla/training/spacy.py\" target=\"_blank\"><span style=\"color: #7f7f7f; text-decoration-color: #7f7f7f\">spacy.py</span></a><span style=\"color: #7f7f7f; text-decoration-color: #7f7f7f\">:</span><a href=\"file:///home/ankush/workplace/os_repos/argilla/src/argilla/training/spacy.py#188\" target=\"_blank\"><span style=\"color: #7f7f7f; text-decoration-color: #7f7f7f\">188</span></a>\n",
       "</pre>\n"
      ],
      "text/plain": [
       "\u001b[2;36m                   \u001b[0m\u001b[2;36m \u001b[0m\u001b[34mINFO    \u001b[0m INFO:ArgillaSpaCyTrainer:Dumping the train dataset to .\u001b[35m/\u001b[0m\u001b[95mtrain.spacy\u001b[0m       \u001b]8;id=21000;file:///home/ankush/workplace/os_repos/argilla/src/argilla/training/spacy.py\u001b\\\u001b[2mspacy.py\u001b[0m\u001b]8;;\u001b\\\u001b[2m:\u001b[0m\u001b]8;id=205803;file:///home/ankush/workplace/os_repos/argilla/src/argilla/training/spacy.py#188\u001b\\\u001b[2m188\u001b[0m\u001b]8;;\u001b\\\n"
      ]
     },
     "metadata": {},
     "output_type": "display_data"
    },
    {
     "data": {
      "text/html": [
       "<pre style=\"white-space:pre;overflow-x:auto;line-height:normal;font-family:Menlo,'DejaVu Sans Mono',consolas,'Courier New',monospace\"><span style=\"color: #7fbfbf; text-decoration-color: #7fbfbf\">[12/16/23 18:20:28] </span><span style=\"color: #000080; text-decoration-color: #000080\">INFO    </span> INFO:ArgillaSpaCyTrainer:Dumping the dev dataset to .<span style=\"color: #800080; text-decoration-color: #800080\">/</span><span style=\"color: #ff00ff; text-decoration-color: #ff00ff\">dev.spacy</span>           <a href=\"file:///home/ankush/workplace/os_repos/argilla/src/argilla/training/spacy.py\" target=\"_blank\"><span style=\"color: #7f7f7f; text-decoration-color: #7f7f7f\">spacy.py</span></a><span style=\"color: #7f7f7f; text-decoration-color: #7f7f7f\">:</span><a href=\"file:///home/ankush/workplace/os_repos/argilla/src/argilla/training/spacy.py#191\" target=\"_blank\"><span style=\"color: #7f7f7f; text-decoration-color: #7f7f7f\">191</span></a>\n",
       "</pre>\n"
      ],
      "text/plain": [
       "\u001b[2;36m[12/16/23 18:20:28]\u001b[0m\u001b[2;36m \u001b[0m\u001b[34mINFO    \u001b[0m INFO:ArgillaSpaCyTrainer:Dumping the dev dataset to .\u001b[35m/\u001b[0m\u001b[95mdev.spacy\u001b[0m           \u001b]8;id=561457;file:///home/ankush/workplace/os_repos/argilla/src/argilla/training/spacy.py\u001b\\\u001b[2mspacy.py\u001b[0m\u001b]8;;\u001b\\\u001b[2m:\u001b[0m\u001b]8;id=487449;file:///home/ankush/workplace/os_repos/argilla/src/argilla/training/spacy.py#191\u001b\\\u001b[2m191\u001b[0m\u001b]8;;\u001b\\\n"
      ]
     },
     "metadata": {},
     "output_type": "display_data"
    },
    {
     "name": "stdout",
     "output_type": "stream",
     "text": [
      "\u001b[38;5;4mℹ Pipeline: ['textcat']\u001b[0m\n",
      "\u001b[38;5;4mℹ Initial learn rate: 0.001\u001b[0m\n",
      "E    #       LOSS TEXTCAT  CATS_SCORE  SCORE \n",
      "---  ------  ------------  ----------  ------\n",
      "  0       0          0.25       33.52    0.34\n",
      "  0     200         53.76       63.08    0.63\n",
      "  0     400         48.18       76.53    0.77\n",
      "  0     600         39.91       75.65    0.76\n"
     ]
    },
    {
     "data": {
      "text/html": [
       "<pre style=\"white-space:pre;overflow-x:auto;line-height:normal;font-family:Menlo,'DejaVu Sans Mono',consolas,'Courier New',monospace\"><span style=\"color: #7fbfbf; text-decoration-color: #7fbfbf\">[12/16/23 18:22:28] </span><span style=\"color: #000080; text-decoration-color: #000080\">INFO    </span> INFO:backo<span style=\"color: #00ff00; text-decoration-color: #00ff00; font-weight: bold\">ff:Bac</span>king off <span style=\"color: #800080; text-decoration-color: #800080; font-weight: bold\">send_request</span><span style=\"font-weight: bold\">(</span><span style=\"color: #808000; text-decoration-color: #808000\">...</span><span style=\"font-weight: bold\">)</span> for <span style=\"color: #008080; text-decoration-color: #008080; font-weight: bold\">108.</span>4s                   <a href=\"file:///home/ankush/anaconda3/envs/argilla_dev_env/lib/python3.9/site-packages/backoff/_common.py\" target=\"_blank\"><span style=\"color: #7f7f7f; text-decoration-color: #7f7f7f\">_common.py</span></a><span style=\"color: #7f7f7f; text-decoration-color: #7f7f7f\">:</span><a href=\"file:///home/ankush/anaconda3/envs/argilla_dev_env/lib/python3.9/site-packages/backoff/_common.py#104\" target=\"_blank\"><span style=\"color: #7f7f7f; text-decoration-color: #7f7f7f\">104</span></a>\n",
       "<span style=\"color: #7fbfbf; text-decoration-color: #7fbfbf\">                    </span>         <span style=\"font-weight: bold\">(</span>requests.exceptions.ReadTimeout:                                       <span style=\"color: #7f7f7f; text-decoration-color: #7f7f7f\">              </span>\n",
       "<span style=\"color: #7fbfbf; text-decoration-color: #7fbfbf\">                    </span>         <span style=\"color: #800080; text-decoration-color: #800080; font-weight: bold\">HTTPSConnectionPool</span><span style=\"font-weight: bold\">(</span><span style=\"color: #808000; text-decoration-color: #808000\">host</span>=<span style=\"color: #008000; text-decoration-color: #008000\">'api.segment.io'</span>, <span style=\"color: #808000; text-decoration-color: #808000\">port</span>=<span style=\"color: #008080; text-decoration-color: #008080; font-weight: bold\">443</span><span style=\"font-weight: bold\">)</span>: Read timed out.   <span style=\"color: #7f7f7f; text-decoration-color: #7f7f7f\">              </span>\n",
       "<span style=\"color: #7fbfbf; text-decoration-color: #7fbfbf\">                    </span>         <span style=\"font-weight: bold\">(</span>read <span style=\"color: #808000; text-decoration-color: #808000\">timeout</span>=<span style=\"color: #008080; text-decoration-color: #008080; font-weight: bold\">15</span><span style=\"font-weight: bold\">))</span>                                                      <span style=\"color: #7f7f7f; text-decoration-color: #7f7f7f\">              </span>\n",
       "</pre>\n"
      ],
      "text/plain": [
       "\u001b[2;36m[12/16/23 18:22:28]\u001b[0m\u001b[2;36m \u001b[0m\u001b[34mINFO    \u001b[0m INFO:backo\u001b[1;92mff:Bac\u001b[0mking off \u001b[1;35msend_request\u001b[0m\u001b[1m(\u001b[0m\u001b[33m...\u001b[0m\u001b[1m)\u001b[0m for \u001b[1;36m108.\u001b[0m4s                   \u001b]8;id=240393;file:///home/ankush/anaconda3/envs/argilla_dev_env/lib/python3.9/site-packages/backoff/_common.py\u001b\\\u001b[2m_common.py\u001b[0m\u001b]8;;\u001b\\\u001b[2m:\u001b[0m\u001b]8;id=733675;file:///home/ankush/anaconda3/envs/argilla_dev_env/lib/python3.9/site-packages/backoff/_common.py#104\u001b\\\u001b[2m104\u001b[0m\u001b]8;;\u001b\\\n",
       "\u001b[2;36m                    \u001b[0m         \u001b[1m(\u001b[0mrequests.exceptions.ReadTimeout:                                       \u001b[2m              \u001b[0m\n",
       "\u001b[2;36m                    \u001b[0m         \u001b[1;35mHTTPSConnectionPool\u001b[0m\u001b[1m(\u001b[0m\u001b[33mhost\u001b[0m=\u001b[32m'api.segment.io'\u001b[0m, \u001b[33mport\u001b[0m=\u001b[1;36m443\u001b[0m\u001b[1m)\u001b[0m: Read timed out.   \u001b[2m              \u001b[0m\n",
       "\u001b[2;36m                    \u001b[0m         \u001b[1m(\u001b[0mread \u001b[33mtimeout\u001b[0m=\u001b[1;36m15\u001b[0m\u001b[1m)\u001b[0m\u001b[1m)\u001b[0m                                                      \u001b[2m              \u001b[0m\n"
      ]
     },
     "metadata": {},
     "output_type": "display_data"
    },
    {
     "name": "stdout",
     "output_type": "stream",
     "text": [
      "  0     800         30.78       76.56    0.77\n",
      "  0    1000         25.84       74.54    0.75\n",
      "  0    1200         28.70       83.54    0.84\n",
      "  0    1400         29.52       83.24    0.83\n",
      "  0    1600         26.72       84.37    0.84\n",
      "  0    1800         31.33       85.25    0.85\n",
      "  0    2000         25.51       69.26    0.69\n"
     ]
    }
   ],
   "source": [
    "import argilla as rg\n",
    "from argilla.feedback import TrainingTask, ArgillaTrainer\n",
    "from datasets import load_dataset\n",
    "from argilla._constants import DEFAULT_API_KEY\n",
    "from argilla import FeedbackDataset\n",
    "\n",
    "dataset = FeedbackDataset.from_argilla(\n",
    "    name=\"imdb_movie_reviews\",\n",
    "    workspace=\"hello-world-workspace\"\n",
    ")\n",
    "# print(dataset[0])\n",
    "\n",
    "def formatting_func(sample):\n",
    "    # print(sample)\n",
    "    text = sample[\"text\"]\n",
    "    label = sample[\"label\"]#[0][\"value\"]\n",
    "    # print((text, label))\n",
    "    return(text, label)\n",
    "\n",
    "# task = TrainingTask.for_text_classification(formatting_func=formatting_func)\n",
    "task = TrainingTask.for_text_classification(\n",
    "    text=dataset.field_by_name(\"text\"),\n",
    "    label=dataset.question_by_name(\"label\"),\n",
    ")\n",
    "\n",
    "trainer = ArgillaTrainer(\n",
    "    dataset=dataset,\n",
    "    task=task,\n",
    "    framework=\"spacy\",\n",
    "    train_size=0.8,\n",
    "    model=\"en_core_web_sm\",\n",
    "    # lang=\"en\"\n",
    ")\n",
    "\n",
    "trainer.update_config(\n",
    "    # dev_corpus = \"corpora.dev\",\n",
    "    # train_corpus = \"corpora.train\",\n",
    "    # seed = 42,\n",
    "    gpu_allocator = \"1\",\n",
    "    # accumulate_gradient = 1,\n",
    "    # patience = 1600,\n",
    "    max_epochs = 0,\n",
    "    max_steps = 2000,\n",
    "    # eval_frequency = 200,\n",
    "    # frozen_components = [],\n",
    "    # annotating_components = [],\n",
    "    # before_to_disk = None,\n",
    "    # before_update = None\n",
    ")\n",
    "\n",
    "trainer.train(output_dir=\"new_imdb_output_dir\")"
   ]
  },
  {
   "cell_type": "code",
   "execution_count": 20,
   "id": "110448bd-d301-4eb1-b43a-600cb01164ed",
   "metadata": {},
   "outputs": [
    {
     "data": {
      "text/plain": [
       "[('Movie was bad.',\n",
       "  {'positive': 0.3244285583496094, 'negative': 0.6755714416503906}),\n",
       " (' Movie was very good!',\n",
       "  {'positive': 0.6074045300483704, 'negative': 0.392595499753952})]"
      ]
     },
     "execution_count": 20,
     "metadata": {},
     "output_type": "execute_result"
    }
   ],
   "source": [
    "[(doc.text, doc.cats) for doc in list(trainer.predict([\"Movie was bad.\", \" Movie was very good!\"]))]"
   ]
  }
 ],
 "metadata": {
  "kernelspec": {
   "display_name": "Python 3 (ipykernel)",
   "language": "python",
   "name": "python3"
  },
  "language_info": {
   "codemirror_mode": {
    "name": "ipython",
    "version": 3
   },
   "file_extension": ".py",
   "mimetype": "text/x-python",
   "name": "python",
   "nbconvert_exporter": "python",
   "pygments_lexer": "ipython3",
   "version": "3.9.18"
  }
 },
 "nbformat": 4,
 "nbformat_minor": 5
}
