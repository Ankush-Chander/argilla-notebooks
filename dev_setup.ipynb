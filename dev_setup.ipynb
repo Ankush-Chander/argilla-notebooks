{
 "cells": [
  {
   "cell_type": "markdown",
   "id": "e5e811d3-cb1a-4737-9701-31cddab3b5ce",
   "metadata": {},
   "source": [
    "# For argilla dev setup you need 4 things \n",
    "1. elasticsearch service: stores all datasets,records, annotations\n",
    "2. backend service: fastapi service that facilitates persistance of data using CLI as well as UI.  \n",
    "3. frontend service: UI of argilla that facilitates visualization/annotations of data\n",
    "4. database: stores auth, user, datasets info for display in UI"
   ]
  },
  {
   "cell_type": "code",
   "execution_count": null,
   "id": "d37cc349-cd72-4051-ad9d-91afb63fb122",
   "metadata": {},
   "outputs": [],
   "source": [
    "# install argilla\n",
    "\n",
    "# via pip\n",
    "! pip install argilla\n",
    "\n",
    "# or via local directory\n",
    "! git clone https://github.com/[your-github-username]/argilla.git\n",
    "! cd argilla\n",
    "! pip install -e ."
   ]
  },
  {
   "cell_type": "code",
   "execution_count": null,
   "id": "823b785d-c01f-4b8e-bafd-97ed9d9a95e6",
   "metadata": {},
   "outputs": [],
   "source": [
    "# Database setup\n",
    "\n",
    "# create database\n",
    "! argilla server database migrate # stores db in ~/.argilla folder\n",
    "\n",
    "# create default users\n",
    "! argilla server database users create_default\n",
    "\n",
    "# to create non-default user users\n",
    "! argilla users create --username admin --password  --first-name ankush --last-name chander --role owner\n",
    "# above command returns apikey. Store it for lKeyboardInterrupt"
   ]
  },
  {
   "cell_type": "code",
   "execution_count": null,
   "id": "be3834a0-f66c-4900-8c03-811510058ddd",
   "metadata": {},
   "outputs": [],
   "source": [
    "# setup enviornoment variables\n",
    "# This step automatically authenticates you automatically when running argilla CLI\n",
    "# add following lines in your .bashrc\n",
    "\n",
    "# Argilla variables\n",
    "export ARGILLA_API_URL=\"http://localhost:6900\"\n",
    "export ARGILLA_API_KEY=\"api_key recieved while creating user\""
   ]
  },
  {
   "cell_type": "code",
   "execution_count": null,
   "id": "9248feda-a944-4723-860b-38af369ceb02",
   "metadata": {},
   "outputs": [],
   "source": [
    "# build frontend\n",
    "! bash scripts/build_frontend.sh"
   ]
  },
  {
   "cell_type": "code",
   "execution_count": null,
   "id": "533b42c8-bc6a-410f-b494-47fcff390e00",
   "metadata": {},
   "outputs": [],
   "source": [
    "# run server\n",
    "\n",
    "# start server\n",
    "! argilla server start\n",
    "# this exposes argilla backend service at port 6900, UI is also available at localhost:6900\n",
    "\n",
    "# if you are developing frontend also\n",
    "! cd frontend\n",
    "! npm run dev # exposes frontend on localhost:3000 which uses backend exposed at 6900\n"
   ]
  },
  {
   "cell_type": "markdown",
   "id": "df39997d-73bf-472d-b524-12a8df32f23a",
   "metadata": {},
   "source": [
    "# References:\n",
    "1. [Argilla developer docs](https://docs.argilla.io/en/latest/community/developer_docs.html) "
   ]
  }
 ],
 "metadata": {
  "kernelspec": {
   "display_name": "Python 3 (ipykernel)",
   "language": "python",
   "name": "python3"
  },
  "language_info": {
   "codemirror_mode": {
    "name": "ipython",
    "version": 3
   },
   "file_extension": ".py",
   "mimetype": "text/x-python",
   "name": "python",
   "nbconvert_exporter": "python",
   "pygments_lexer": "ipython3",
   "version": "3.9.18"
  }
 },
 "nbformat": 4,
 "nbformat_minor": 5
}
